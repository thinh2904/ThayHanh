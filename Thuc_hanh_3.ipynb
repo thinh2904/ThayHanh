{
  "nbformat": 4,
  "nbformat_minor": 0,
  "metadata": {
    "colab": {
      "name": "Thuc_hanh_3.ipynb",
      "provenance": []
    },
    "kernelspec": {
      "name": "python3",
      "display_name": "Python 3"
    },
    "language_info": {
      "name": "python"
    }
  },
  "cells": [
    {
      "cell_type": "code",
      "metadata": {
        "id": "uQzApgjYtYQM"
      },
      "source": [
        "import pandas as pd\n",
        "import numpy as np\n",
        "import scipy\n",
        "from scipy import stats\n",
        "import seaborn as sns\n",
        "import statsmodels.api as sm\n",
        "from scipy.stats import shapiro\n",
        "from scipy.stats import kstest\n",
        "from scipy.stats import bartlett\n",
        "from scipy.stats import levene"
      ],
      "execution_count": 28,
      "outputs": []
    },
    {
      "cell_type": "code",
      "metadata": {
        "id": "mtqchQrKuPmy"
      },
      "source": [
        "df = pd.read_csv('data.csv')"
      ],
      "execution_count": 29,
      "outputs": []
    },
    {
      "cell_type": "code",
      "metadata": {
        "colab": {
          "base_uri": "https://localhost:8080/",
          "height": 195
        },
        "id": "q8ykPmjKuft6",
        "outputId": "e950c714-f10c-4a18-fcf5-ee2c78a7ef5e"
      },
      "source": [
        "df.head()"
      ],
      "execution_count": 30,
      "outputs": [
        {
          "output_type": "execute_result",
          "data": {
            "text/html": [
              "<div>\n",
              "<style scoped>\n",
              "    .dataframe tbody tr th:only-of-type {\n",
              "        vertical-align: middle;\n",
              "    }\n",
              "\n",
              "    .dataframe tbody tr th {\n",
              "        vertical-align: top;\n",
              "    }\n",
              "\n",
              "    .dataframe thead th {\n",
              "        text-align: right;\n",
              "    }\n",
              "</style>\n",
              "<table border=\"1\" class=\"dataframe\">\n",
              "  <thead>\n",
              "    <tr style=\"text-align: right;\">\n",
              "      <th></th>\n",
              "      <th>Screen Size</th>\n",
              "      <th>Weight</th>\n",
              "      <th>Brightness</th>\n",
              "    </tr>\n",
              "  </thead>\n",
              "  <tbody>\n",
              "    <tr>\n",
              "      <th>0</th>\n",
              "      <td>10.006692</td>\n",
              "      <td>29.313384</td>\n",
              "      <td>19.825988</td>\n",
              "    </tr>\n",
              "    <tr>\n",
              "      <th>1</th>\n",
              "      <td>10.081624</td>\n",
              "      <td>29.463248</td>\n",
              "      <td>19.993238</td>\n",
              "    </tr>\n",
              "    <tr>\n",
              "      <th>2</th>\n",
              "      <td>10.072873</td>\n",
              "      <td>29.445746</td>\n",
              "      <td>19.973641</td>\n",
              "    </tr>\n",
              "    <tr>\n",
              "      <th>3</th>\n",
              "      <td>9.954496</td>\n",
              "      <td>29.208992</td>\n",
              "      <td>19.710221</td>\n",
              "    </tr>\n",
              "    <tr>\n",
              "      <th>4</th>\n",
              "      <td>9.994093</td>\n",
              "      <td>29.288185</td>\n",
              "      <td>19.797988</td>\n",
              "    </tr>\n",
              "  </tbody>\n",
              "</table>\n",
              "</div>"
            ],
            "text/plain": [
              "   Screen Size     Weight  Brightness\n",
              "0    10.006692  29.313384   19.825988\n",
              "1    10.081624  29.463248   19.993238\n",
              "2    10.072873  29.445746   19.973641\n",
              "3     9.954496  29.208992   19.710221\n",
              "4     9.994093  29.288185   19.797988"
            ]
          },
          "metadata": {
            "tags": []
          },
          "execution_count": 30
        }
      ]
    },
    {
      "cell_type": "code",
      "metadata": {
        "id": "xGK-67CCukED"
      },
      "source": [
        "screen = df['Screen Size']\n",
        "weight = df['Weight']\n",
        "brigh = df['Brightness']"
      ],
      "execution_count": 31,
      "outputs": []
    },
    {
      "cell_type": "code",
      "metadata": {
        "id": "kpNCVaUzu4Tv"
      },
      "source": [
        "def hist(x):\n",
        "  sns.distplot(x)\n",
        "\n",
        "\n",
        "def qq(x):\n",
        "  sm.qqplot(x)\n",
        "\n",
        "\n",
        "def shapi(x):\n",
        "  stat, p = shapiro(x)\n",
        "  print('stat=%.3f, p=%.3f' % (stat, p))\n",
        "  if p > 0.05:\n",
        "    print('Không thể bác bỏ giả thiết H0: Phân phối dữ liệu là phân phối chuẩn')\n",
        "  else:\n",
        "    print('Dữ liệu không tuân theo luật phân phối chuẩn')\n",
        "\n",
        "\n",
        "def kst(x):\n",
        "  stat, p = kstest(x, 'norm')\n",
        "  print('stat=%.3f, p=%.3f' % (stat, p))\n",
        "  if p > 0.05:\n",
        "    print('Không thể bác bỏ giả thiết H0: Phân phối dữ liệu là phân phối chuẩn')\n",
        "  else:\n",
        "    print('Dữ liệu không tuân theo luật phân phối chuẩn')\n",
        "\n",
        "\n",
        "def bart(x, y, z):\n",
        "  stat, p = bartlett(x, y, z)\n",
        "  print('stat=%.3f, p=%.3f' % (stat, p))\n",
        "  if p < 0.05:\n",
        "    print('Không thể bác bỏ giả thiết H0')\n",
        "  else:\n",
        "    print('Bác bỏ giả thiết H0')  \n",
        "\n",
        "\n",
        "def leven(x, y, z):\n",
        "  stat, p = levene(x, y, z)\n",
        "  print('stat=%.3f, p=%.3f' % (stat, p))\n",
        "  if p < 0.05:\n",
        "    print('Không thể bác bỏ giả thiết H0')\n",
        "  else:\n",
        "    print('Bác bỏ giả thiết H0')    "
      ],
      "execution_count": 40,
      "outputs": []
    },
    {
      "cell_type": "code",
      "metadata": {
        "colab": {
          "base_uri": "https://localhost:8080/",
          "height": 333
        },
        "id": "elGCoE_d1O0n",
        "outputId": "c20cabef-27c6-4f79-9d8c-5876ab1eb892"
      },
      "source": [
        "hist(screen)"
      ],
      "execution_count": 43,
      "outputs": [
        {
          "output_type": "stream",
          "text": [
            "/usr/local/lib/python3.7/dist-packages/seaborn/distributions.py:2557: FutureWarning: `distplot` is a deprecated function and will be removed in a future version. Please adapt your code to use either `displot` (a figure-level function with similar flexibility) or `histplot` (an axes-level function for histograms).\n",
            "  warnings.warn(msg, FutureWarning)\n"
          ],
          "name": "stderr"
        },
        {
          "output_type": "display_data",
          "data": {
            "image/png": "[encoded data removed]",
            "text/plain": [
              "<Figure size 432x288 with 1 Axes>"
            ]
          },
          "metadata": {
            "tags": [],
            "needs_background": "light"
          }
        }
      ]
    },
    {
      "cell_type": "code",
      "metadata": {
        "colab": {
          "base_uri": "https://localhost:8080/",
          "height": 333
        },
        "id": "XxG1E2Mg1YC0",
        "outputId": "d662515a-ad48-4e9a-dea0-3f19b8d6f65e"
      },
      "source": [
        "hist(weight)"
      ],
      "execution_count": 44,
      "outputs": [
        {
          "output_type": "stream",
          "text": [
            "/usr/local/lib/python3.7/dist-packages/seaborn/distributions.py:2557: FutureWarning: `distplot` is a deprecated function and will be removed in a future version. Please adapt your code to use either `displot` (a figure-level function with similar flexibility) or `histplot` (an axes-level function for histograms).\n",
            "  warnings.warn(msg, FutureWarning)\n"
          ],
          "name": "stderr"
        },
        {
          "output_type": "display_data",
          "data": {
            "image/png": "[encoded data removed]",
            "text/plain": [
              "<Figure size 432x288 with 1 Axes>"
            ]
          },
          "metadata": {
            "tags": [],
            "needs_background": "light"
          }
        }
      ]
    },
    {
      "cell_type": "code",
      "metadata": {
        "colab": {
          "base_uri": "https://localhost:8080/",
          "height": 333
        },
        "id": "DsG_fyGB1bMQ",
        "outputId": "1b217df7-5763-4488-9c2f-ff6a550f9f2d"
      },
      "source": [
        "hist(brigh)"
      ],
      "execution_count": 45,
      "outputs": [
        {
          "output_type": "stream",
          "text": [
            "/usr/local/lib/python3.7/dist-packages/seaborn/distributions.py:2557: FutureWarning: `distplot` is a deprecated function and will be removed in a future version. Please adapt your code to use either `displot` (a figure-level function with similar flexibility) or `histplot` (an axes-level function for histograms).\n",
            "  warnings.warn(msg, FutureWarning)\n"
          ],
          "name": "stderr"
        },
        {
          "output_type": "display_data",
          "data": {
            "image/png": "[encoded data removed]",
            "text/plain": [
              "<Figure size 432x288 with 1 Axes>"
            ]
          },
          "metadata": {
            "tags": [],
            "needs_background": "light"
          }
        }
      ]
    },
    {
      "cell_type": "code",
      "metadata": {
        "colab": {
          "base_uri": "https://localhost:8080/",
          "height": 279
        },
        "id": "AB28yFWD1dz-",
        "outputId": "e367cec7-397a-4f1b-e4c5-24f1e0efdcca"
      },
      "source": [
        "qq(screen)"
      ],
      "execution_count": 46,
      "outputs": [
        {
          "output_type": "display_data",
          "data": {
            "image/png": "[encoded data removed]",
            "text/plain": [
              "<Figure size 432x288 with 1 Axes>"
            ]
          },
          "metadata": {
            "tags": [],
            "needs_background": "light"
          }
        }
      ]
    },
    {
      "cell_type": "code",
      "metadata": {
        "colab": {
          "base_uri": "https://localhost:8080/",
          "height": 279
        },
        "id": "R1eZ4rns1gVa",
        "outputId": "5aaa4ca9-c479-473c-b0f1-ab4ff3591ecf"
      },
      "source": [
        "qq(weight)"
      ],
      "execution_count": 47,
      "outputs": [
        {
          "output_type": "display_data",
          "data": {
            "image/png": "[encoded data removed]",
            "text/plain": [
              "<Figure size 432x288 with 1 Axes>"
            ]
          },
          "metadata": {
            "tags": [],
            "needs_background": "light"
          }
        }
      ]
    },
    {
      "cell_type": "code",
      "metadata": {
        "colab": {
          "base_uri": "https://localhost:8080/",
          "height": 279
        },
        "id": "peZxR5pp1itW",
        "outputId": "12df3223-adfc-4f79-bbbd-4023bb5f94b6"
      },
      "source": [
        "qq(brigh)"
      ],
      "execution_count": 48,
      "outputs": [
        {
          "output_type": "display_data",
          "data": {
            "image/png": "[encoded data removed]",
            "text/plain": [
              "<Figure size 432x288 with 1 Axes>"
            ]
          },
          "metadata": {
            "tags": [],
            "needs_background": "light"
          }
        }
      ]
    },
    {
      "cell_type": "code",
      "metadata": {
        "colab": {
          "base_uri": "https://localhost:8080/"
        },
        "id": "gWAj64Qw1mjU",
        "outputId": "df26bbf5-fcd1-49a6-fe47-5d6824a55c2e"
      },
      "source": [
        "shapi(screen)"
      ],
      "execution_count": 49,
      "outputs": [
        {
          "output_type": "stream",
          "text": [
            "stat=0.999, p=0.731\n",
            "Không thể bác bỏ giả thiết H0: Phân phối dữ liệu là phân phối chuẩn\n"
          ],
          "name": "stdout"
        }
      ]
    },
    {
      "cell_type": "code",
      "metadata": {
        "colab": {
          "base_uri": "https://localhost:8080/"
        },
        "id": "wArhrP2b1poj",
        "outputId": "4dd929a2-4d4f-4560-967e-062adbec74f5"
      },
      "source": [
        "shapi(weight)"
      ],
      "execution_count": 50,
      "outputs": [
        {
          "output_type": "stream",
          "text": [
            "stat=0.999, p=0.733\n",
            "Không thể bác bỏ giả thiết H0: Phân phối dữ liệu là phân phối chuẩn\n"
          ],
          "name": "stdout"
        }
      ]
    },
    {
      "cell_type": "code",
      "metadata": {
        "colab": {
          "base_uri": "https://localhost:8080/"
        },
        "id": "dYsTSbXI1scE",
        "outputId": "f4caa740-93e1-433a-d460-1d60dbd8e2e4"
      },
      "source": [
        "shapi(brigh)"
      ],
      "execution_count": 51,
      "outputs": [
        {
          "output_type": "stream",
          "text": [
            "stat=0.999, p=0.698\n",
            "Không thể bác bỏ giả thiết H0: Phân phối dữ liệu là phân phối chuẩn\n"
          ],
          "name": "stdout"
        }
      ]
    },
    {
      "cell_type": "code",
      "metadata": {
        "colab": {
          "base_uri": "https://localhost:8080/"
        },
        "id": "llCdoEix1x4K",
        "outputId": "1ee0e002-a4e2-45f9-fdcb-775d9d629d37"
      },
      "source": [
        "kst(screen)"
      ],
      "execution_count": 52,
      "outputs": [
        {
          "output_type": "stream",
          "text": [
            "stat=1.000, p=0.000\n",
            "Dữ liệu không tuân theo luật phân phối chuẩn\n"
          ],
          "name": "stdout"
        }
      ]
    },
    {
      "cell_type": "code",
      "metadata": {
        "colab": {
          "base_uri": "https://localhost:8080/"
        },
        "id": "yUueZIVD1z8L",
        "outputId": "7d7e6136-68ab-439b-90a3-07aac736df18"
      },
      "source": [
        "kst(weight)"
      ],
      "execution_count": 53,
      "outputs": [
        {
          "output_type": "stream",
          "text": [
            "stat=1.000, p=0.000\n",
            "Dữ liệu không tuân theo luật phân phối chuẩn\n"
          ],
          "name": "stdout"
        }
      ]
    },
    {
      "cell_type": "code",
      "metadata": {
        "colab": {
          "base_uri": "https://localhost:8080/"
        },
        "id": "R5JIdN7J116C",
        "outputId": "1eca1e39-fea1-42b2-f830-e89c362673ab"
      },
      "source": [
        "kst(brigh)"
      ],
      "execution_count": 54,
      "outputs": [
        {
          "output_type": "stream",
          "text": [
            "stat=1.000, p=0.000\n",
            "Dữ liệu không tuân theo luật phân phối chuẩn\n"
          ],
          "name": "stdout"
        }
      ]
    },
    {
      "cell_type": "code",
      "metadata": {
        "colab": {
          "base_uri": "https://localhost:8080/"
        },
        "id": "88r7PMj62AnC",
        "outputId": "37eca924-fa84-4b1d-f873-f2261ce4c255"
      },
      "source": [
        "bart(screen, weight, brigh)"
      ],
      "execution_count": 55,
      "outputs": [
        {
          "output_type": "stream",
          "text": [
            "stat=609.156, p=0.000\n",
            "Không thể bác bỏ giả thiết H0\n"
          ],
          "name": "stdout"
        }
      ]
    },
    {
      "cell_type": "code",
      "metadata": {
        "colab": {
          "base_uri": "https://localhost:8080/"
        },
        "id": "GnFs8Zzww28O",
        "outputId": "74e0087a-e9a9-4ea2-ef0b-b5335cca07ce"
      },
      "source": [
        "leven(screen, weight, brigh)"
      ],
      "execution_count": 56,
      "outputs": [
        {
          "output_type": "stream",
          "text": [
            "stat=232.029, p=0.000\n",
            "Không thể bác bỏ giả thiết H0\n"
          ],
          "name": "stdout"
        }
      ]
    }
  ]
}