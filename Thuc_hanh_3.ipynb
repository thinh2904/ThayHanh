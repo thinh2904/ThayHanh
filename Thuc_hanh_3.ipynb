{
  "nbformat": 4,
  "nbformat_minor": 0,
  "metadata": {
    "colab": {
      "name": "Thuc_hanh_3.ipynb",
      "provenance": []
    },
    "kernelspec": {
      "name": "python3",
      "display_name": "Python 3"
    },
    "language_info": {
      "name": "python"
    }
  },
  "cells": [
    {
      "cell_type": "code",
      "metadata": {
        "id": "uQzApgjYtYQM"
      },
      "source": [
        "import pandas as pd\n",
        "import numpy as np\n",
        "import scipy\n",
        "from scipy import stats\n",
        "import seaborn as sns\n",
        "import statsmodels.api as sm\n",
        "from scipy.stats import shapiro\n",
        "from scipy.stats import kstest\n",
        "from scipy.stats import bartlett\n",
        "from scipy.stats import levene"
      ],
      "execution_count": 103,
      "outputs": []
    },
    {
      "cell_type": "code",
      "metadata": {
        "id": "mtqchQrKuPmy"
      },
      "source": [
        "df = pd.read_csv('data.csv')"
      ],
      "execution_count": 104,
      "outputs": []
    },
    {
      "cell_type": "code",
      "metadata": {
        "colab": {
          "base_uri": "https://localhost:8080/",
          "height": 195
        },
        "id": "q8ykPmjKuft6",
        "outputId": "19c9b52d-1c9e-4191-d853-af1264e80d1f"
      },
      "source": [
        "df.head()"
      ],
      "execution_count": 105,
      "outputs": [
        {
          "output_type": "execute_result",
          "data": {
            "text/html": [
              "<div>\n",
              "<style scoped>\n",
              "    .dataframe tbody tr th:only-of-type {\n",
              "        vertical-align: middle;\n",
              "    }\n",
              "\n",
              "    .dataframe tbody tr th {\n",
              "        vertical-align: top;\n",
              "    }\n",
              "\n",
              "    .dataframe thead th {\n",
              "        text-align: right;\n",
              "    }\n",
              "</style>\n",
              "<table border=\"1\" class=\"dataframe\">\n",
              "  <thead>\n",
              "    <tr style=\"text-align: right;\">\n",
              "      <th></th>\n",
              "      <th>Screen Size</th>\n",
              "      <th>Weight</th>\n",
              "      <th>Brightness</th>\n",
              "    </tr>\n",
              "  </thead>\n",
              "  <tbody>\n",
              "    <tr>\n",
              "      <th>0</th>\n",
              "      <td>10.006692</td>\n",
              "      <td>29.313384</td>\n",
              "      <td>19.825988</td>\n",
              "    </tr>\n",
              "    <tr>\n",
              "      <th>1</th>\n",
              "      <td>10.081624</td>\n",
              "      <td>29.463248</td>\n",
              "      <td>19.993238</td>\n",
              "    </tr>\n",
              "    <tr>\n",
              "      <th>2</th>\n",
              "      <td>10.072873</td>\n",
              "      <td>29.445746</td>\n",
              "      <td>19.973641</td>\n",
              "    </tr>\n",
              "    <tr>\n",
              "      <th>3</th>\n",
              "      <td>9.954496</td>\n",
              "      <td>29.208992</td>\n",
              "      <td>19.710221</td>\n",
              "    </tr>\n",
              "    <tr>\n",
              "      <th>4</th>\n",
              "      <td>9.994093</td>\n",
              "      <td>29.288185</td>\n",
              "      <td>19.797988</td>\n",
              "    </tr>\n",
              "  </tbody>\n",
              "</table>\n",
              "</div>"
            ],
            "text/plain": [
              "   Screen Size     Weight  Brightness\n",
              "0    10.006692  29.313384   19.825988\n",
              "1    10.081624  29.463248   19.993238\n",
              "2    10.072873  29.445746   19.973641\n",
              "3     9.954496  29.208992   19.710221\n",
              "4     9.994093  29.288185   19.797988"
            ]
          },
          "metadata": {
            "tags": []
          },
          "execution_count": 105
        }
      ]
    },
    {
      "cell_type": "code",
      "metadata": {
        "id": "xGK-67CCukED"
      },
      "source": [
        "screen = np.array(df['Screen Size'])\n",
        "screen = (np.array(screen)-np.mean(screen))/np.std(screen)\n",
        "weight = np.array(df['Weight'])\n",
        "weight = (np.array(weight)-np.mean(weight))/np.std(weight)\n",
        "brigh = np.array(df['Brightness'])\n",
        "brigh = (np.array(brigh)-np.mean(brigh))/np.std(brigh)"
      ],
      "execution_count": 106,
      "outputs": []
    },
    {
      "cell_type": "code",
      "metadata": {
        "id": "kpNCVaUzu4Tv"
      },
      "source": [
        "def hist(x):\n",
        "  sns.distplot(x)\n",
        "\n",
        "\n",
        "def qq(x):\n",
        "  sm.qqplot(x, line = '45')\n",
        "\n",
        "\n",
        "def shapi(x):\n",
        "  stat, p = shapiro(x)\n",
        "  print('stat=%.3f, p=%.3f' % (stat, p))\n",
        "  if p > 0.05:\n",
        "    print('Không thể bác bỏ giả thiết H0: Phân phối dữ liệu là phân phối chuẩn')\n",
        "  else:\n",
        "    print('Dữ liệu không tuân theo luật phân phối chuẩn')\n",
        "\n",
        "\n",
        "def kst(x):\n",
        "  stat, p = kstest(rvs=x, cdf='norm', args=(np.mean(x), np.std(x)))\n",
        "  print('stat=%.3f, p=%.3f' % (stat, p))\n",
        "  if p > 0.05:\n",
        "    print('Không thể bác bỏ giả thiết H0: Phân phối dữ liệu là phân phối chuẩn')\n",
        "  else:\n",
        "    print('Dữ liệu không tuân theo luật phân phối chuẩn')\n",
        "\n",
        "\n",
        "def bart(x, y, z):\n",
        "  stat, p = bartlett(x, y, z)\n",
        "  print('stat=%.3f, p=%.3f' % (stat, p))\n",
        "  if p < 0.05:\n",
        "    print('Phương sai bằng nhau')\n",
        "  else:\n",
        "    print('Có ít nhất một cặp phương sai khác nhau')  \n",
        "\n",
        "\n",
        "def leven(x, y, z):\n",
        "  stat, p = levene(x, y, z)\n",
        "  print('stat=%.3f, p=%.3f' % (stat, p))\n",
        "  if p < 0.05:\n",
        "    print('Phương sai bằng nhau')\n",
        "  else:\n",
        "    print('Có ít nhất một cặp phương sai khác nhau')    "
      ],
      "execution_count": 108,
      "outputs": []
    },
    {
      "cell_type": "code",
      "metadata": {
        "colab": {
          "base_uri": "https://localhost:8080/",
          "height": 318
        },
        "id": "elGCoE_d1O0n",
        "outputId": "844178d9-9b7e-4ec8-aef1-e2b222ced957"
      },
      "source": [
        "hist(screen)"
      ],
      "execution_count": 109,
      "outputs": [
        {
          "output_type": "stream",
          "text": [
            "/usr/local/lib/python3.7/dist-packages/seaborn/distributions.py:2557: FutureWarning: `distplot` is a deprecated function and will be removed in a future version. Please adapt your code to use either `displot` (a figure-level function with similar flexibility) or `histplot` (an axes-level function for histograms).\n",
            "  warnings.warn(msg, FutureWarning)\n"
          ],
          "name": "stderr"
        },
        {
          "output_type": "display_data",
          "data": {
            "image/png": "[encoded data removed]",
            "text/plain": [
              "<Figure size 432x288 with 1 Axes>"
            ]
          },
          "metadata": {
            "tags": [],
            "needs_background": "light"
          }
        }
      ]
    },
    {
      "cell_type": "code",
      "metadata": {
        "colab": {
          "base_uri": "https://localhost:8080/",
          "height": 318
        },
        "id": "XxG1E2Mg1YC0",
        "outputId": "ef757393-c3a2-467a-b9ea-d820ad256491"
      },
      "source": [
        "hist(weight)"
      ],
      "execution_count": 110,
      "outputs": [
        {
          "output_type": "stream",
          "text": [
            "/usr/local/lib/python3.7/dist-packages/seaborn/distributions.py:2557: FutureWarning: `distplot` is a deprecated function and will be removed in a future version. Please adapt your code to use either `displot` (a figure-level function with similar flexibility) or `histplot` (an axes-level function for histograms).\n",
            "  warnings.warn(msg, FutureWarning)\n"
          ],
          "name": "stderr"
        },
        {
          "output_type": "display_data",
          "data": {
            "image/png": "[encoded data removed]",
            "text/plain": [
              "<Figure size 432x288 with 1 Axes>"
            ]
          },
          "metadata": {
            "tags": [],
            "needs_background": "light"
          }
        }
      ]
    },
    {
      "cell_type": "code",
      "metadata": {
        "colab": {
          "base_uri": "https://localhost:8080/",
          "height": 318
        },
        "id": "DsG_fyGB1bMQ",
        "outputId": "f30143d2-8718-4b6c-cd8c-ce5e8e3d07b8"
      },
      "source": [
        "hist(brigh)"
      ],
      "execution_count": 111,
      "outputs": [
        {
          "output_type": "stream",
          "text": [
            "/usr/local/lib/python3.7/dist-packages/seaborn/distributions.py:2557: FutureWarning: `distplot` is a deprecated function and will be removed in a future version. Please adapt your code to use either `displot` (a figure-level function with similar flexibility) or `histplot` (an axes-level function for histograms).\n",
            "  warnings.warn(msg, FutureWarning)\n"
          ],
          "name": "stderr"
        },
        {
          "output_type": "display_data",
          "data": {
            "image/png": "[encoded data removed]",
            "text/plain": [
              "<Figure size 432x288 with 1 Axes>"
            ]
          },
          "metadata": {
            "tags": [],
            "needs_background": "light"
          }
        }
      ]
    },
    {
      "cell_type": "code",
      "metadata": {
        "colab": {
          "base_uri": "https://localhost:8080/",
          "height": 279
        },
        "id": "AB28yFWD1dz-",
        "outputId": "ab5bc387-86ad-45f2-d034-216ba330c250"
      },
      "source": [
        "qq(screen)"
      ],
      "execution_count": 112,
      "outputs": [
        {
          "output_type": "display_data",
          "data": {
            "image/png": "[encoded data removed]",
            "text/plain": [
              "<Figure size 432x288 with 1 Axes>"
            ]
          },
          "metadata": {
            "tags": [],
            "needs_background": "light"
          }
        }
      ]
    },
    {
      "cell_type": "code",
      "metadata": {
        "colab": {
          "base_uri": "https://localhost:8080/",
          "height": 279
        },
        "id": "R1eZ4rns1gVa",
        "outputId": "a6686800-4ec7-4815-8ec7-8ff6b2b0acf2"
      },
      "source": [
        "qq(weight)"
      ],
      "execution_count": 113,
      "outputs": [
        {
          "output_type": "display_data",
          "data": {
            "image/png": "[encoded data removed]",
            "text/plain": [
              "<Figure size 432x288 with 1 Axes>"
            ]
          },
          "metadata": {
            "tags": [],
            "needs_background": "light"
          }
        }
      ]
    },
    {
      "cell_type": "code",
      "metadata": {
        "colab": {
          "base_uri": "https://localhost:8080/",
          "height": 279
        },
        "id": "peZxR5pp1itW",
        "outputId": "dabbb0a4-0371-4eab-c8bf-ccc4d283f34c"
      },
      "source": [
        "qq(brigh)"
      ],
      "execution_count": 114,
      "outputs": [
        {
          "output_type": "display_data",
          "data": {
            "image/png": "[encoded data removed]",
            "text/plain": [
              "<Figure size 432x288 with 1 Axes>"
            ]
          },
          "metadata": {
            "tags": [],
            "needs_background": "light"
          }
        }
      ]
    },
    {
      "cell_type": "code",
      "metadata": {
        "colab": {
          "base_uri": "https://localhost:8080/"
        },
        "id": "gWAj64Qw1mjU",
        "outputId": "60f3589e-8233-4601-977f-b09379ead65e"
      },
      "source": [
        "shapi(screen)"
      ],
      "execution_count": 115,
      "outputs": [
        {
          "output_type": "stream",
          "text": [
            "stat=0.999, p=0.732\n",
            "Không thể bác bỏ giả thiết H0: Phân phối dữ liệu là phân phối chuẩn\n"
          ],
          "name": "stdout"
        }
      ]
    },
    {
      "cell_type": "code",
      "metadata": {
        "colab": {
          "base_uri": "https://localhost:8080/"
        },
        "id": "wArhrP2b1poj",
        "outputId": "ec33492b-ef7a-4eb5-9902-d58f03a2dc16"
      },
      "source": [
        "shapi(weight)"
      ],
      "execution_count": 116,
      "outputs": [
        {
          "output_type": "stream",
          "text": [
            "stat=0.999, p=0.732\n",
            "Không thể bác bỏ giả thiết H0: Phân phối dữ liệu là phân phối chuẩn\n"
          ],
          "name": "stdout"
        }
      ]
    },
    {
      "cell_type": "code",
      "metadata": {
        "colab": {
          "base_uri": "https://localhost:8080/"
        },
        "id": "dYsTSbXI1scE",
        "outputId": "8b1e8eee-6b65-4351-ca99-bd433cdbd69f"
      },
      "source": [
        "shapi(brigh)"
      ],
      "execution_count": 117,
      "outputs": [
        {
          "output_type": "stream",
          "text": [
            "stat=0.999, p=0.699\n",
            "Không thể bác bỏ giả thiết H0: Phân phối dữ liệu là phân phối chuẩn\n"
          ],
          "name": "stdout"
        }
      ]
    },
    {
      "cell_type": "code",
      "metadata": {
        "colab": {
          "base_uri": "https://localhost:8080/"
        },
        "id": "llCdoEix1x4K",
        "outputId": "c97b7d64-83b5-4199-a8de-58a1e2b58cbd"
      },
      "source": [
        "kst(screen)"
      ],
      "execution_count": 118,
      "outputs": [
        {
          "output_type": "stream",
          "text": [
            "stat=0.025, p=0.560\n",
            "Không thể bác bỏ giả thiết H0: Phân phối dữ liệu là phân phối chuẩn\n"
          ],
          "name": "stdout"
        }
      ]
    },
    {
      "cell_type": "code",
      "metadata": {
        "colab": {
          "base_uri": "https://localhost:8080/"
        },
        "id": "yUueZIVD1z8L",
        "outputId": "aa4b6be0-6d74-41e5-f63a-80a6214c44a8"
      },
      "source": [
        "kst(weight)"
      ],
      "execution_count": 119,
      "outputs": [
        {
          "output_type": "stream",
          "text": [
            "stat=0.025, p=0.560\n",
            "Không thể bác bỏ giả thiết H0: Phân phối dữ liệu là phân phối chuẩn\n"
          ],
          "name": "stdout"
        }
      ]
    },
    {
      "cell_type": "code",
      "metadata": {
        "colab": {
          "base_uri": "https://localhost:8080/"
        },
        "id": "R5JIdN7J116C",
        "outputId": "47988cca-0a3f-4599-e93d-c4aae5d855ff"
      },
      "source": [
        "kst(brigh)"
      ],
      "execution_count": 120,
      "outputs": [
        {
          "output_type": "stream",
          "text": [
            "stat=0.024, p=0.599\n",
            "Không thể bác bỏ giả thiết H0: Phân phối dữ liệu là phân phối chuẩn\n"
          ],
          "name": "stdout"
        }
      ]
    },
    {
      "cell_type": "code",
      "metadata": {
        "colab": {
          "base_uri": "https://localhost:8080/"
        },
        "id": "88r7PMj62AnC",
        "outputId": "ada7a5d6-53d8-4be9-fa8a-25e6f1179181"
      },
      "source": [
        "bart(screen, weight, brigh)"
      ],
      "execution_count": 121,
      "outputs": [
        {
          "output_type": "stream",
          "text": [
            "stat=0.000, p=1.000\n",
            "Có ít nhất một cặp phương sai khác nhau\n"
          ],
          "name": "stdout"
        }
      ]
    },
    {
      "cell_type": "code",
      "metadata": {
        "colab": {
          "base_uri": "https://localhost:8080/"
        },
        "id": "GnFs8Zzww28O",
        "outputId": "847cecc0-bccd-41b4-cc56-ea74d358f9a5"
      },
      "source": [
        "leven(screen, weight, brigh)"
      ],
      "execution_count": 122,
      "outputs": [
        {
          "output_type": "stream",
          "text": [
            "stat=0.000, p=1.000\n",
            "Có ít nhất một cặp phương sai khác nhau\n"
          ],
          "name": "stdout"
        }
      ]
    }
  ]
}