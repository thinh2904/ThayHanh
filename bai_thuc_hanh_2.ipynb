{
  "nbformat": 4,
  "nbformat_minor": 0,
  "metadata": {
    "colab": {
      "name": "bai_thuc_hanh_2.ipynb",
      "provenance": []
    },
    "kernelspec": {
      "name": "python3",
      "display_name": "Python 3"
    },
    "language_info": {
      "name": "python"
    }
  },
  "cells": [
    {
      "cell_type": "code",
      "metadata": {
        "id": "xvTMHaKuK6YJ"
      },
      "source": [
        "import numpy as np\n",
        "from scipy import stats\n",
        "import seaborn as sns\n",
        "import statsmodels.api as sm"
      ],
      "execution_count": 86,
      "outputs": []
    },
    {
      "cell_type": "code",
      "metadata": {
        "id": "FLIju85-LYaZ"
      },
      "source": [
        "data = np.random.normal(0,1,1000)"
      ],
      "execution_count": 104,
      "outputs": []
    },
    {
      "cell_type": "code",
      "metadata": {
        "id": "0kmKorvRK9s4"
      },
      "source": [
        "class ProJect_2:\n",
        "\n",
        "\n",
        "  def __init__(self, data):\n",
        "    self.data = data\n",
        "    self.mean = np.mean(data)\n",
        "    self.med = np.median(data)\n",
        "    self.mod = stats.mode(data)\n",
        "    self.max = np.max(data)\n",
        "    self.min = np.min(data)\n",
        "\n",
        "\n",
        "  def hist(self):\n",
        "    sns.distplot(self.data)\n",
        "\n",
        "\n",
        "  def quantile(self, x):\n",
        "    return np.quantile(self.data,x)\n",
        "\n",
        "\n",
        "  def qq(self):\n",
        "    sm.qqplot(self.data, line=\"45\")\n",
        "\n",
        "  "
      ],
      "execution_count": 127,
      "outputs": []
    },
    {
      "cell_type": "code",
      "metadata": {
        "id": "Ljf8ENs6MIZx"
      },
      "source": [
        "A = ProJect_2(data)"
      ],
      "execution_count": 128,
      "outputs": []
    },
    {
      "cell_type": "code",
      "metadata": {
        "colab": {
          "base_uri": "https://localhost:8080/"
        },
        "id": "3tfRNu5nbK3T",
        "outputId": "bf8d6bf0-b205-41a6-bf1c-48854c3b187c"
      },
      "source": [
        "A.mean"
      ],
      "execution_count": 107,
      "outputs": [
        {
          "output_type": "execute_result",
          "data": {
            "text/plain": [
              "0.04060585163761312"
            ]
          },
          "metadata": {
            "tags": []
          },
          "execution_count": 107
        }
      ]
    },
    {
      "cell_type": "code",
      "metadata": {
        "colab": {
          "base_uri": "https://localhost:8080/"
        },
        "id": "wV0CnoztbSAa",
        "outputId": "e267a0cb-7f43-4df2-8620-3699cfc22e0a"
      },
      "source": [
        "A.max"
      ],
      "execution_count": 108,
      "outputs": [
        {
          "output_type": "execute_result",
          "data": {
            "text/plain": [
              "3.216364832639934"
            ]
          },
          "metadata": {
            "tags": []
          },
          "execution_count": 108
        }
      ]
    },
    {
      "cell_type": "code",
      "metadata": {
        "colab": {
          "base_uri": "https://localhost:8080/"
        },
        "id": "-ZZ0Aii7bVhC",
        "outputId": "61674ea2-2dd0-4a72-e867-5b99354a1509"
      },
      "source": [
        "A.min"
      ],
      "execution_count": 109,
      "outputs": [
        {
          "output_type": "execute_result",
          "data": {
            "text/plain": [
              "-2.916018034695214"
            ]
          },
          "metadata": {
            "tags": []
          },
          "execution_count": 109
        }
      ]
    },
    {
      "cell_type": "code",
      "metadata": {
        "colab": {
          "base_uri": "https://localhost:8080/"
        },
        "id": "-MDzhGItbNqi",
        "outputId": "76e94cd6-5c18-45a0-8155-991c4c12726d"
      },
      "source": [
        "A.med"
      ],
      "execution_count": 110,
      "outputs": [
        {
          "output_type": "execute_result",
          "data": {
            "text/plain": [
              "0.012478067019372204"
            ]
          },
          "metadata": {
            "tags": []
          },
          "execution_count": 110
        }
      ]
    },
    {
      "cell_type": "code",
      "metadata": {
        "colab": {
          "base_uri": "https://localhost:8080/"
        },
        "id": "qWrwJQfaMOy4",
        "outputId": "1d2bb41d-b0d7-4e6e-f973-b6a622b96700"
      },
      "source": [
        "A.mod"
      ],
      "execution_count": 118,
      "outputs": [
        {
          "output_type": "execute_result",
          "data": {
            "text/plain": [
              "ModeResult(mode=array([-2.91601803]), count=array([1]))"
            ]
          },
          "metadata": {
            "tags": []
          },
          "execution_count": 118
        }
      ]
    },
    {
      "cell_type": "code",
      "metadata": {
        "colab": {
          "base_uri": "https://localhost:8080/",
          "height": 319
        },
        "id": "ne6lrTRvbaBi",
        "outputId": "49ac7e90-812d-4f6e-d8c5-ad3d979038b5"
      },
      "source": [
        "A.hist()"
      ],
      "execution_count": 129,
      "outputs": [
        {
          "output_type": "stream",
          "text": [
            "/usr/local/lib/python3.7/dist-packages/seaborn/distributions.py:2557: FutureWarning: `distplot` is a deprecated function and will be removed in a future version. Please adapt your code to use either `displot` (a figure-level function with similar flexibility) or `histplot` (an axes-level function for histograms).\n",
            "  warnings.warn(msg, FutureWarning)\n"
          ],
          "name": "stderr"
        },
        {
          "output_type": "display_data",
          "data": {
            "image/png": "[encoded data removed]",
            "text/plain": [
              "<Figure size 432x288 with 1 Axes>"
            ]
          },
          "metadata": {
            "tags": [],
            "needs_background": "light"
          }
        }
      ]
    },
    {
      "cell_type": "code",
      "metadata": {
        "colab": {
          "base_uri": "https://localhost:8080/"
        },
        "id": "nzKmuHlWbeFS",
        "outputId": "6b8c9561-e6e2-4061-a181-b87ee6cf0f10"
      },
      "source": [
        "A.quantile(.5)"
      ],
      "execution_count": 113,
      "outputs": [
        {
          "output_type": "execute_result",
          "data": {
            "text/plain": [
              "0.012478067019372204"
            ]
          },
          "metadata": {
            "tags": []
          },
          "execution_count": 113
        }
      ]
    },
    {
      "cell_type": "code",
      "metadata": {
        "colab": {
          "base_uri": "https://localhost:8080/",
          "height": 279
        },
        "id": "wwjIctjJbg4a",
        "outputId": "60cf1e45-b7b4-4a04-953b-50c3d9b6df04"
      },
      "source": [
        "A.qq()"
      ],
      "execution_count": 114,
      "outputs": [
        {
          "output_type": "display_data",
          "data": {
            "image/png": "[encoded data removed]",
            "text/plain": [
              "<Figure size 432x288 with 1 Axes>"
            ]
          },
          "metadata": {
            "tags": [],
            "needs_background": "light"
          }
        }
      ]
    }
  ]
}