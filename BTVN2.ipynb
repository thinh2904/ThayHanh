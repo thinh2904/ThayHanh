#anova
{
  "nbformat": 4,
  "nbformat_minor": 0,
  "metadata": {
    "colab": {
      "name": "BTVN2.ipynb",
      "provenance": []
    },
    "kernelspec": {
      "name": "python3",
      "display_name": "Python 3"
    },
    "language_info": {
      "name": "python"
    }
  },
  "cells": [
    {
      "cell_type": "markdown",
      "metadata": {
        "id": "acBXMd1mWV-Z"
      },
      "source": [
        "## Import các thư viện cần thiết"
      ]
    },
    {
      "cell_type": "code",
      "metadata": {
        "id": "-j5DOVDWS5H4"
      },
      "source": [
        "import numpy as np\n",
        "import pandas as pd\n",
        "import seaborn as sns\n",
        "import scipy\n",
        "from scipy import stats\n",
        "from matplotlib import pyplot as plt\n",
        "%matplotlib inline\n",
        "plt.rcParams['figure.figsize'] = [16, 9]\n",
        "plt.rcParams['figure.dpi'] = 100\n",
        "plt.rcParams.update({'font.size':18})"
      ],
      "execution_count": 7,
      "outputs": []
    },
    {
      "cell_type": "code",
      "metadata": {
        "id": "T_AFk7wbThxz"
      },
      "source": [
        "def results(p, alpha=0.05):\n",
        "    cols=['f_score', 'p_value', 'KetLuan']\n",
        "    if p['p_value'] < alpha:\n",
        "        p['KetLuan'] = f\"Chấp nhận H1 với mức ý nghĩa {alpha}\"\n",
        "    if p['p_value'] >= alpha:\n",
        "        p['KetLuan'] = f\"Chấp nhận H0 với mức ý nghĩa {alpha}\"\n",
        "    df = pd.DataFrame(p, index=[''])\n",
        "    return df[cols]"
      ],
      "execution_count": 2,
      "outputs": []
    },
    {
      "cell_type": "markdown",
      "metadata": {
        "id": "_m2elP2rWawV"
      },
      "source": [
        "## Đọc dữ liệu"
      ]
    },
    {
      "cell_type": "code",
      "metadata": {
        "id": "GBgpfpu-TlHI"
      },
      "source": [
        "df = pd.io.stata.read_stata(\"https://www.stata-press.com/data/r17/cholesterol.dta\")"
      ],
      "execution_count": 3,
      "outputs": []
    },
    {
      "cell_type": "code",
      "metadata": {
        "colab": {
          "base_uri": "https://localhost:8080/",
          "height": 357
        },
        "id": "nfnbOyRiTt0K",
        "outputId": "bdbc1e4c-4824-4131-aa27-1af1ed3092cb"
      },
      "source": [
        "df.sample(10)"
      ],
      "execution_count": 4,
      "outputs": [
        {
          "output_type": "execute_result",
          "data": {
            "text/html": [
              "<div>\n",
              "<style scoped>\n",
              "    .dataframe tbody tr th:only-of-type {\n",
              "        vertical-align: middle;\n",
              "    }\n",
              "\n",
              "    .dataframe tbody tr th {\n",
              "        vertical-align: top;\n",
              "    }\n",
              "\n",
              "    .dataframe thead th {\n",
              "        text-align: right;\n",
              "    }\n",
              "</style>\n",
              "<table border=\"1\" class=\"dataframe\">\n",
              "  <thead>\n",
              "    <tr style=\"text-align: right;\">\n",
              "      <th></th>\n",
              "      <th>race</th>\n",
              "      <th>agegrp</th>\n",
              "      <th>chol</th>\n",
              "      <th>agemidpt</th>\n",
              "      <th>meangrp</th>\n",
              "    </tr>\n",
              "  </thead>\n",
              "  <tbody>\n",
              "    <tr>\n",
              "      <th>22</th>\n",
              "      <td>Black</td>\n",
              "      <td>20–29</td>\n",
              "      <td>187.652069</td>\n",
              "      <td>25.0</td>\n",
              "      <td>188.056671</td>\n",
              "    </tr>\n",
              "    <tr>\n",
              "      <th>0</th>\n",
              "      <td>White</td>\n",
              "      <td>10–19</td>\n",
              "      <td>188.962997</td>\n",
              "      <td>15.0</td>\n",
              "      <td>179.853088</td>\n",
              "    </tr>\n",
              "    <tr>\n",
              "      <th>44</th>\n",
              "      <td>Black</td>\n",
              "      <td>30–39</td>\n",
              "      <td>217.862289</td>\n",
              "      <td>35.0</td>\n",
              "      <td>201.394150</td>\n",
              "    </tr>\n",
              "    <tr>\n",
              "      <th>7</th>\n",
              "      <td>White</td>\n",
              "      <td>10–19</td>\n",
              "      <td>178.875641</td>\n",
              "      <td>15.0</td>\n",
              "      <td>179.853088</td>\n",
              "    </tr>\n",
              "    <tr>\n",
              "      <th>61</th>\n",
              "      <td>Other</td>\n",
              "      <td>60–79</td>\n",
              "      <td>237.375397</td>\n",
              "      <td>70.0</td>\n",
              "      <td>220.615295</td>\n",
              "    </tr>\n",
              "    <tr>\n",
              "      <th>60</th>\n",
              "      <td>Other</td>\n",
              "      <td>60–79</td>\n",
              "      <td>236.831116</td>\n",
              "      <td>70.0</td>\n",
              "      <td>220.615295</td>\n",
              "    </tr>\n",
              "    <tr>\n",
              "      <th>69</th>\n",
              "      <td>Black</td>\n",
              "      <td>60–79</td>\n",
              "      <td>220.085693</td>\n",
              "      <td>70.0</td>\n",
              "      <td>220.615295</td>\n",
              "    </tr>\n",
              "    <tr>\n",
              "      <th>52</th>\n",
              "      <td>Other</td>\n",
              "      <td>40–59</td>\n",
              "      <td>208.659790</td>\n",
              "      <td>50.0</td>\n",
              "      <td>210.003769</td>\n",
              "    </tr>\n",
              "    <tr>\n",
              "      <th>29</th>\n",
              "      <td>White</td>\n",
              "      <td>20–29</td>\n",
              "      <td>170.699265</td>\n",
              "      <td>25.0</td>\n",
              "      <td>188.056671</td>\n",
              "    </tr>\n",
              "    <tr>\n",
              "      <th>39</th>\n",
              "      <td>White</td>\n",
              "      <td>30–39</td>\n",
              "      <td>196.421158</td>\n",
              "      <td>35.0</td>\n",
              "      <td>201.394150</td>\n",
              "    </tr>\n",
              "  </tbody>\n",
              "</table>\n",
              "</div>"
            ],
            "text/plain": [
              "     race agegrp        chol  agemidpt     meangrp\n",
              "22  Black  20–29  187.652069      25.0  188.056671\n",
              "0   White  10–19  188.962997      15.0  179.853088\n",
              "44  Black  30–39  217.862289      35.0  201.394150\n",
              "7   White  10–19  178.875641      15.0  179.853088\n",
              "61  Other  60–79  237.375397      70.0  220.615295\n",
              "60  Other  60–79  236.831116      70.0  220.615295\n",
              "69  Black  60–79  220.085693      70.0  220.615295\n",
              "52  Other  40–59  208.659790      50.0  210.003769\n",
              "29  White  20–29  170.699265      25.0  188.056671\n",
              "39  White  30–39  196.421158      35.0  201.394150"
            ]
          },
          "metadata": {
            "tags": []
          },
          "execution_count": 4
        }
      ]
    },
    {
      "cell_type": "markdown",
      "metadata": {
        "id": "Ja7AAVnJXxzA"
      },
      "source": [
        "## So sánh trung bình Cholesterol của các nhóm sắc tộc"
      ]
    },
    {
      "cell_type": "markdown",
      "metadata": {
        "id": "Qwj6lYltYKal"
      },
      "source": [
        "**Phát biểu giả thuyết:**\n",
        "\n",
        "$H_{0}$: Không có sự khác biệt về trung bình cholesterol giữa 3 nhóm sắc tộc\n",
        "\n",
        "$H_{1}$: Có ít nhất 2 nhóm sắc tộc có trung bình cholesterol khác nhau"
      ]
    },
    {
      "cell_type": "code",
      "metadata": {
        "colab": {
          "base_uri": "https://localhost:8080/",
          "height": 382
        },
        "id": "R_zCbCNTYjQT",
        "outputId": "65642cec-f91b-448f-9523-66573f2b55e2"
      },
      "source": [
        "# Kỹ thuật EDA:\n",
        "sns.boxplot(x='race', y='chol', data=df, color='green')\n",
        "sns.swarmplot(x='race', y='chol', data=df, color='yellow')\n",
        "plt.show()"
      ],
      "execution_count": 6,
      "outputs": [
        {
          "output_type": "display_data",
          "data": {
            "image/png": "[encoded data removed]",
            "text/plain": [
              "<Figure size 1600x900 with 1 Axes>"
            ]
          },
          "metadata": {
            "tags": [],
            "needs_background": "light"
          }
        }
      ]
    },
    {
      "cell_type": "code",
      "metadata": {
        "id": "4QkEIOUWaNWY"
      },
      "source": [
        "race_chol_df = df[['race', 'chol']].copy()\n",
        "white = race_chol_df[race_chol_df['race']=='White']\n",
        "black = race_chol_df[race_chol_df['race']=='Black']\n",
        "other = race_chol_df[race_chol_df['race']=='Other']"
      ],
      "execution_count": 15,
      "outputs": []
    },
    {
      "cell_type": "code",
      "metadata": {
        "colab": {
          "base_uri": "https://localhost:8080/",
          "height": 80
        },
        "id": "-bpRJ9loZcbR",
        "outputId": "d38cd75a-36cf-4ba0-e129-9443a38f0680"
      },
      "source": [
        "p = {}\n",
        "p['f_score'], p['p_value'] = stats.f_oneway(white['chol'],black['chol'],other['chol'])\n",
        "results(p)"
      ],
      "execution_count": 18,
      "outputs": [
        {
          "output_type": "execute_result",
          "data": {
            "text/html": [
              "<div>\n",
              "<style scoped>\n",
              "    .dataframe tbody tr th:only-of-type {\n",
              "        vertical-align: middle;\n",
              "    }\n",
              "\n",
              "    .dataframe tbody tr th {\n",
              "        vertical-align: top;\n",
              "    }\n",
              "\n",
              "    .dataframe thead th {\n",
              "        text-align: right;\n",
              "    }\n",
              "</style>\n",
              "<table border=\"1\" class=\"dataframe\">\n",
              "  <thead>\n",
              "    <tr style=\"text-align: right;\">\n",
              "      <th></th>\n",
              "      <th>f_score</th>\n",
              "      <th>p_value</th>\n",
              "      <th>KetLuan</th>\n",
              "    </tr>\n",
              "  </thead>\n",
              "  <tbody>\n",
              "    <tr>\n",
              "      <th></th>\n",
              "      <td>1.108161</td>\n",
              "      <td>0.33573</td>\n",
              "      <td>Chấp nhận H0 với mức ý nghĩa 0.05</td>\n",
              "    </tr>\n",
              "  </tbody>\n",
              "</table>\n",
              "</div>"
            ],
            "text/plain": [
              "   f_score  p_value                            KetLuan\n",
              "  1.108161  0.33573  Chấp nhận H0 với mức ý nghĩa 0.05"
            ]
          },
          "metadata": {
            "tags": []
          },
          "execution_count": 18
        }
      ]
    },
    {
      "cell_type": "code",
      "metadata": {
        "id": "D9HpuV9-cRAx"
      },
      "source": [
        "from statsmodels.stats.multicomp import pairwise_tukeyhsd"
      ],
      "execution_count": 20,
      "outputs": []
    },
    {
      "cell_type": "code",
      "metadata": {
        "colab": {
          "base_uri": "https://localhost:8080/",
          "height": 117
        },
        "id": "LpR5Ko5_cdb4",
        "outputId": "2c996db2-13b3-4e30-b162-5a47d91cd638"
      },
      "source": [
        "tukey = pairwise_tukeyhsd(endog=df['chol'],\n",
        "                          groups=df['race'],\n",
        "                          alpha=0.05)\n",
        "tukey.summary()"
      ],
      "execution_count": 21,
      "outputs": [
        {
          "output_type": "execute_result",
          "data": {
            "text/html": [
              "<table class=\"simpletable\">\n",
              "<caption>Multiple Comparison of Means - Tukey HSD, FWER=0.05</caption>\n",
              "<tr>\n",
              "  <th>group1</th> <th>group2</th> <th>meandiff</th>  <th>p-adj</th>   <th>lower</th>   <th>upper</th>  <th>reject</th>\n",
              "</tr>\n",
              "<tr>\n",
              "   <td>Black</td>  <td>Other</td>  <td>-5.7153</td> <td>0.4808</td> <td>-17.4778</td> <td>6.0473</td>   <td>False</td>\n",
              "</tr>\n",
              "<tr>\n",
              "   <td>Black</td>  <td>White</td>  <td>-6.8147</td> <td>0.3542</td> <td>-18.5773</td> <td>4.9478</td>   <td>False</td>\n",
              "</tr>\n",
              "<tr>\n",
              "   <td>Other</td>  <td>White</td>  <td>-1.0995</td>   <td>0.9</td>   <td>-12.862</td> <td>10.6631</td>  <td>False</td>\n",
              "</tr>\n",
              "</table>"
            ],
            "text/plain": [
              "<class 'statsmodels.iolib.table.SimpleTable'>"
            ]
          },
          "metadata": {
            "tags": []
          },
          "execution_count": 21
        }
      ]
    },
    {
      "cell_type": "code",
      "metadata": {
        "id": "ntlnbAI4c4bj"
      },
      "source": [
        "from statsmodels.formula.api import ols\n",
        "import statsmodels.api as sm"
      ],
      "execution_count": 22,
      "outputs": []
    },
    {
      "cell_type": "code",
      "metadata": {
        "id": "myypxvTHc5e0"
      },
      "source": [
        "model = ols('chol ~ C(race)', data=df).fit()\n",
        "anova_table = sm.stats.anova_lm(model, typ=2)"
      ],
      "execution_count": 30,
      "outputs": []
    },
    {
      "cell_type": "code",
      "metadata": {
        "colab": {
          "base_uri": "https://localhost:8080/",
          "height": 110
        },
        "id": "ihO6huuYdsmB",
        "outputId": "013ddb15-4545-44c2-c6a9-048fe10f01fa"
      },
      "source": [
        "anova_table"
      ],
      "execution_count": 31,
      "outputs": [
        {
          "output_type": "execute_result",
          "data": {
            "text/html": [
              "<div>\n",
              "<style scoped>\n",
              "    .dataframe tbody tr th:only-of-type {\n",
              "        vertical-align: middle;\n",
              "    }\n",
              "\n",
              "    .dataframe tbody tr th {\n",
              "        vertical-align: top;\n",
              "    }\n",
              "\n",
              "    .dataframe thead th {\n",
              "        text-align: right;\n",
              "    }\n",
              "</style>\n",
              "<table border=\"1\" class=\"dataframe\">\n",
              "  <thead>\n",
              "    <tr style=\"text-align: right;\">\n",
              "      <th></th>\n",
              "      <th>sum_sq</th>\n",
              "      <th>df</th>\n",
              "      <th>F</th>\n",
              "      <th>PR(&gt;F)</th>\n",
              "    </tr>\n",
              "  </thead>\n",
              "  <tbody>\n",
              "    <tr>\n",
              "      <th>C(race)</th>\n",
              "      <td>669.278235</td>\n",
              "      <td>2.0</td>\n",
              "      <td>1.108161</td>\n",
              "      <td>0.33573</td>\n",
              "    </tr>\n",
              "    <tr>\n",
              "      <th>Residual</th>\n",
              "      <td>21742.341205</td>\n",
              "      <td>72.0</td>\n",
              "      <td>NaN</td>\n",
              "      <td>NaN</td>\n",
              "    </tr>\n",
              "  </tbody>\n",
              "</table>\n",
              "</div>"
            ],
            "text/plain": [
              "                sum_sq    df         F   PR(>F)\n",
              "C(race)     669.278235   2.0  1.108161  0.33573\n",
              "Residual  21742.341205  72.0       NaN      NaN"
            ]
          },
          "metadata": {
            "tags": []
          },
          "execution_count": 31
        }
      ]
    }
  ]
}
