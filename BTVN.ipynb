{
  "nbformat": 4,
  "nbformat_minor": 0,
  "metadata": {
    "colab": {
      "name": "BTVN.ipynb",
      "provenance": []
    },
    "kernelspec": {
      "name": "python3",
      "display_name": "Python 3"
    },
    "language_info": {
      "name": "python"
    }
  },
  "cells": [
    {
      "cell_type": "markdown",
      "metadata": {
        "id": "-TF0QdYJeeFE"
      },
      "source": [
        "### Bài 1:"
      ]
    },
    {
      "cell_type": "markdown",
      "metadata": {
        "id": "miy0dly8FhbZ"
      },
      "source": [
        "## Cài đặt các thư viện cần thiết"
      ]
    },
    {
      "cell_type": "code",
      "metadata": {
        "id": "oOJooA9LAlsR"
      },
      "source": [
        "import numpy as np\n",
        "import pandas as pd\n",
        "import seaborn as sns\n",
        "from matplotlib import pyplot as plt\n",
        "import scipy\n",
        "from scipy import stats\n",
        "%matplotlib inline\n",
        "plt.rcParams['figure.figsize'] = [16, 9]\n",
        "plt.rcParams['figure.dpi'] = 100\n",
        "plt.rcParams.update({'font.size':18})"
      ],
      "execution_count": 43,
      "outputs": []
    },
    {
      "cell_type": "code",
      "metadata": {
        "id": "zJta2aEuBQG3"
      },
      "source": [
        "def results(p, alpha=0.05):\n",
        "    cols=['score', 'p_value', 'dof', 'KetLuan']\n",
        "    if p['p_value'] < alpha:\n",
        "        p['KetLuan'] = f\"Chấp nhận H1 với mức ý nghĩa {alpha}\"\n",
        "    if p['p_value'] >= alpha:\n",
        "        p['KetLuan'] = f\"Chấp nhận H0 với mức ý nghĩa {alpha}\"\n",
        "    df = pd.DataFrame(p, index=[''])\n",
        "    return df[cols]"
      ],
      "execution_count": null,
      "outputs": []
    },
    {
      "cell_type": "markdown",
      "metadata": {
        "id": "L8Zki7nsJKUt"
      },
      "source": [
        "## Đọc dữ liệu"
      ]
    },
    {
      "cell_type": "code",
      "metadata": {
        "id": "InpOt0kHBThH"
      },
      "source": [
        "df = pd.read_csv('StudentsPerformance.csv')"
      ],
      "execution_count": null,
      "outputs": []
    },
    {
      "cell_type": "code",
      "metadata": {
        "colab": {
          "base_uri": "https://localhost:8080/",
          "height": 357
        },
        "id": "uX4s2HokBgoO",
        "outputId": "3a04822f-0d1c-4b06-962a-a460525f3356"
      },
      "source": [
        "df.sample(10)"
      ],
      "execution_count": null,
      "outputs": [
        {
          "output_type": "execute_result",
          "data": {
            "text/html": [
              "<div>\n",
              "<style scoped>\n",
              "    .dataframe tbody tr th:only-of-type {\n",
              "        vertical-align: middle;\n",
              "    }\n",
              "\n",
              "    .dataframe tbody tr th {\n",
              "        vertical-align: top;\n",
              "    }\n",
              "\n",
              "    .dataframe thead th {\n",
              "        text-align: right;\n",
              "    }\n",
              "</style>\n",
              "<table border=\"1\" class=\"dataframe\">\n",
              "  <thead>\n",
              "    <tr style=\"text-align: right;\">\n",
              "      <th></th>\n",
              "      <th>gender</th>\n",
              "      <th>race/ethnicity</th>\n",
              "      <th>parental level of education</th>\n",
              "      <th>lunch</th>\n",
              "      <th>test preparation course</th>\n",
              "      <th>math score</th>\n",
              "      <th>reading score</th>\n",
              "      <th>writing score</th>\n",
              "    </tr>\n",
              "  </thead>\n",
              "  <tbody>\n",
              "    <tr>\n",
              "      <th>730</th>\n",
              "      <td>female</td>\n",
              "      <td>group B</td>\n",
              "      <td>associate's degree</td>\n",
              "      <td>free/reduced</td>\n",
              "      <td>completed</td>\n",
              "      <td>68</td>\n",
              "      <td>77</td>\n",
              "      <td>80</td>\n",
              "    </tr>\n",
              "    <tr>\n",
              "      <th>178</th>\n",
              "      <td>female</td>\n",
              "      <td>group B</td>\n",
              "      <td>master's degree</td>\n",
              "      <td>free/reduced</td>\n",
              "      <td>completed</td>\n",
              "      <td>52</td>\n",
              "      <td>70</td>\n",
              "      <td>62</td>\n",
              "    </tr>\n",
              "    <tr>\n",
              "      <th>101</th>\n",
              "      <td>male</td>\n",
              "      <td>group D</td>\n",
              "      <td>bachelor's degree</td>\n",
              "      <td>standard</td>\n",
              "      <td>completed</td>\n",
              "      <td>68</td>\n",
              "      <td>74</td>\n",
              "      <td>74</td>\n",
              "    </tr>\n",
              "    <tr>\n",
              "      <th>408</th>\n",
              "      <td>female</td>\n",
              "      <td>group D</td>\n",
              "      <td>high school</td>\n",
              "      <td>free/reduced</td>\n",
              "      <td>completed</td>\n",
              "      <td>52</td>\n",
              "      <td>57</td>\n",
              "      <td>56</td>\n",
              "    </tr>\n",
              "    <tr>\n",
              "      <th>426</th>\n",
              "      <td>male</td>\n",
              "      <td>group C</td>\n",
              "      <td>bachelor's degree</td>\n",
              "      <td>standard</td>\n",
              "      <td>none</td>\n",
              "      <td>86</td>\n",
              "      <td>83</td>\n",
              "      <td>86</td>\n",
              "    </tr>\n",
              "    <tr>\n",
              "      <th>764</th>\n",
              "      <td>male</td>\n",
              "      <td>group D</td>\n",
              "      <td>some college</td>\n",
              "      <td>standard</td>\n",
              "      <td>none</td>\n",
              "      <td>60</td>\n",
              "      <td>63</td>\n",
              "      <td>59</td>\n",
              "    </tr>\n",
              "    <tr>\n",
              "      <th>981</th>\n",
              "      <td>male</td>\n",
              "      <td>group D</td>\n",
              "      <td>some high school</td>\n",
              "      <td>standard</td>\n",
              "      <td>none</td>\n",
              "      <td>81</td>\n",
              "      <td>78</td>\n",
              "      <td>78</td>\n",
              "    </tr>\n",
              "    <tr>\n",
              "      <th>243</th>\n",
              "      <td>male</td>\n",
              "      <td>group E</td>\n",
              "      <td>some college</td>\n",
              "      <td>standard</td>\n",
              "      <td>none</td>\n",
              "      <td>59</td>\n",
              "      <td>51</td>\n",
              "      <td>43</td>\n",
              "    </tr>\n",
              "    <tr>\n",
              "      <th>651</th>\n",
              "      <td>female</td>\n",
              "      <td>group A</td>\n",
              "      <td>high school</td>\n",
              "      <td>standard</td>\n",
              "      <td>completed</td>\n",
              "      <td>68</td>\n",
              "      <td>80</td>\n",
              "      <td>76</td>\n",
              "    </tr>\n",
              "    <tr>\n",
              "      <th>964</th>\n",
              "      <td>male</td>\n",
              "      <td>group D</td>\n",
              "      <td>some college</td>\n",
              "      <td>standard</td>\n",
              "      <td>none</td>\n",
              "      <td>72</td>\n",
              "      <td>57</td>\n",
              "      <td>58</td>\n",
              "    </tr>\n",
              "  </tbody>\n",
              "</table>\n",
              "</div>"
            ],
            "text/plain": [
              "     gender race/ethnicity  ... reading score writing score\n",
              "730  female        group B  ...            77            80\n",
              "178  female        group B  ...            70            62\n",
              "101    male        group D  ...            74            74\n",
              "408  female        group D  ...            57            56\n",
              "426    male        group C  ...            83            86\n",
              "764    male        group D  ...            63            59\n",
              "981    male        group D  ...            78            78\n",
              "243    male        group E  ...            51            43\n",
              "651  female        group A  ...            80            76\n",
              "964    male        group D  ...            57            58\n",
              "\n",
              "[10 rows x 8 columns]"
            ]
          },
          "metadata": {
            "tags": []
          },
          "execution_count": 4
        }
      ]
    },
    {
      "cell_type": "markdown",
      "metadata": {
        "id": "ONXhyPPLDYJr"
      },
      "source": [
        "## So sánh biến Gender với Math score"
      ]
    },
    {
      "cell_type": "markdown",
      "metadata": {
        "id": "yfaRgy6lEEM1"
      },
      "source": [
        "**Phát biểu giả thuyết**\n",
        "\n",
        "$H_{0}$: Giới tính và điểm môn toán không phụ thuộc nhau\n",
        "\n",
        "$H_{1}$: Giới tính và điểm môn toán có mối liên hệ với nhau"
      ]
    },
    {
      "cell_type": "code",
      "metadata": {
        "colab": {
          "base_uri": "https://localhost:8080/",
          "height": 357
        },
        "id": "XSez-RIdB9Wp",
        "outputId": "1d4da4cd-7b9d-48a6-a6d8-b3f2e2b46928"
      },
      "source": [
        "bins = [0, 60, 75, 85, 100]\n",
        "gen_math_df = df[['gender', 'math score']].copy()\n",
        "gen_math_df['ThangDiem'] = pd.cut(gen_math_df['math score'], bins, labels=['D','C','B','A'])\n",
        "gen_math_df.sample(10)"
      ],
      "execution_count": null,
      "outputs": [
        {
          "output_type": "execute_result",
          "data": {
            "text/html": [
              "<div>\n",
              "<style scoped>\n",
              "    .dataframe tbody tr th:only-of-type {\n",
              "        vertical-align: middle;\n",
              "    }\n",
              "\n",
              "    .dataframe tbody tr th {\n",
              "        vertical-align: top;\n",
              "    }\n",
              "\n",
              "    .dataframe thead th {\n",
              "        text-align: right;\n",
              "    }\n",
              "</style>\n",
              "<table border=\"1\" class=\"dataframe\">\n",
              "  <thead>\n",
              "    <tr style=\"text-align: right;\">\n",
              "      <th></th>\n",
              "      <th>gender</th>\n",
              "      <th>math score</th>\n",
              "      <th>ThangDiem</th>\n",
              "    </tr>\n",
              "  </thead>\n",
              "  <tbody>\n",
              "    <tr>\n",
              "      <th>595</th>\n",
              "      <td>female</td>\n",
              "      <td>56</td>\n",
              "      <td>D</td>\n",
              "    </tr>\n",
              "    <tr>\n",
              "      <th>820</th>\n",
              "      <td>female</td>\n",
              "      <td>85</td>\n",
              "      <td>B</td>\n",
              "    </tr>\n",
              "    <tr>\n",
              "      <th>414</th>\n",
              "      <td>female</td>\n",
              "      <td>51</td>\n",
              "      <td>D</td>\n",
              "    </tr>\n",
              "    <tr>\n",
              "      <th>922</th>\n",
              "      <td>male</td>\n",
              "      <td>72</td>\n",
              "      <td>C</td>\n",
              "    </tr>\n",
              "    <tr>\n",
              "      <th>239</th>\n",
              "      <td>male</td>\n",
              "      <td>84</td>\n",
              "      <td>B</td>\n",
              "    </tr>\n",
              "    <tr>\n",
              "      <th>812</th>\n",
              "      <td>female</td>\n",
              "      <td>54</td>\n",
              "      <td>D</td>\n",
              "    </tr>\n",
              "    <tr>\n",
              "      <th>542</th>\n",
              "      <td>female</td>\n",
              "      <td>81</td>\n",
              "      <td>B</td>\n",
              "    </tr>\n",
              "    <tr>\n",
              "      <th>480</th>\n",
              "      <td>male</td>\n",
              "      <td>73</td>\n",
              "      <td>C</td>\n",
              "    </tr>\n",
              "    <tr>\n",
              "      <th>268</th>\n",
              "      <td>female</td>\n",
              "      <td>88</td>\n",
              "      <td>A</td>\n",
              "    </tr>\n",
              "    <tr>\n",
              "      <th>432</th>\n",
              "      <td>male</td>\n",
              "      <td>61</td>\n",
              "      <td>C</td>\n",
              "    </tr>\n",
              "  </tbody>\n",
              "</table>\n",
              "</div>"
            ],
            "text/plain": [
              "     gender  math score ThangDiem\n",
              "595  female          56         D\n",
              "820  female          85         B\n",
              "414  female          51         D\n",
              "922    male          72         C\n",
              "239    male          84         B\n",
              "812  female          54         D\n",
              "542  female          81         B\n",
              "480    male          73         C\n",
              "268  female          88         A\n",
              "432    male          61         C"
            ]
          },
          "metadata": {
            "tags": []
          },
          "execution_count": 5
        }
      ]
    },
    {
      "cell_type": "code",
      "metadata": {
        "colab": {
          "base_uri": "https://localhost:8080/",
          "height": 142
        },
        "id": "kA48BE7-CHLA",
        "outputId": "8b04bf64-3ca2-4245-f064-dae4e0d7f847"
      },
      "source": [
        "tan_so_df = pd.crosstab(index = gen_math_df['gender'], columns=gen_math_df['ThangDiem'])\n",
        "tan_so_df"
      ],
      "execution_count": null,
      "outputs": [
        {
          "output_type": "execute_result",
          "data": {
            "text/html": [
              "<div>\n",
              "<style scoped>\n",
              "    .dataframe tbody tr th:only-of-type {\n",
              "        vertical-align: middle;\n",
              "    }\n",
              "\n",
              "    .dataframe tbody tr th {\n",
              "        vertical-align: top;\n",
              "    }\n",
              "\n",
              "    .dataframe thead th {\n",
              "        text-align: right;\n",
              "    }\n",
              "</style>\n",
              "<table border=\"1\" class=\"dataframe\">\n",
              "  <thead>\n",
              "    <tr style=\"text-align: right;\">\n",
              "      <th>ThangDiem</th>\n",
              "      <th>D</th>\n",
              "      <th>C</th>\n",
              "      <th>B</th>\n",
              "      <th>A</th>\n",
              "    </tr>\n",
              "    <tr>\n",
              "      <th>gender</th>\n",
              "      <th></th>\n",
              "      <th></th>\n",
              "      <th></th>\n",
              "      <th></th>\n",
              "    </tr>\n",
              "  </thead>\n",
              "  <tbody>\n",
              "    <tr>\n",
              "      <th>female</th>\n",
              "      <td>204</td>\n",
              "      <td>201</td>\n",
              "      <td>75</td>\n",
              "      <td>37</td>\n",
              "    </tr>\n",
              "    <tr>\n",
              "      <th>male</th>\n",
              "      <td>134</td>\n",
              "      <td>186</td>\n",
              "      <td>96</td>\n",
              "      <td>66</td>\n",
              "    </tr>\n",
              "  </tbody>\n",
              "</table>\n",
              "</div>"
            ],
            "text/plain": [
              "ThangDiem    D    C   B   A\n",
              "gender                     \n",
              "female     204  201  75  37\n",
              "male       134  186  96  66"
            ]
          },
          "metadata": {
            "tags": []
          },
          "execution_count": 6
        }
      ]
    },
    {
      "cell_type": "code",
      "metadata": {
        "id": "K-880dUeCfd7"
      },
      "source": [
        "score, p_value, dof, expected = stats.chi2_contingency(tan_so_df)"
      ],
      "execution_count": null,
      "outputs": []
    },
    {
      "cell_type": "code",
      "metadata": {
        "colab": {
          "base_uri": "https://localhost:8080/",
          "height": 80
        },
        "id": "TPXTxfAVCrwT",
        "outputId": "ef2db81e-a297-44d3-f554-094d622ed4d1"
      },
      "source": [
        "p = {}\n",
        "p['score'] = score\n",
        "p['p_value'] = p_value\n",
        "p['dof'] = dof\n",
        "results(p)"
      ],
      "execution_count": null,
      "outputs": [
        {
          "output_type": "execute_result",
          "data": {
            "text/html": [
              "<div>\n",
              "<style scoped>\n",
              "    .dataframe tbody tr th:only-of-type {\n",
              "        vertical-align: middle;\n",
              "    }\n",
              "\n",
              "    .dataframe tbody tr th {\n",
              "        vertical-align: top;\n",
              "    }\n",
              "\n",
              "    .dataframe thead th {\n",
              "        text-align: right;\n",
              "    }\n",
              "</style>\n",
              "<table border=\"1\" class=\"dataframe\">\n",
              "  <thead>\n",
              "    <tr style=\"text-align: right;\">\n",
              "      <th></th>\n",
              "      <th>score</th>\n",
              "      <th>p_value</th>\n",
              "      <th>dof</th>\n",
              "      <th>KetLuan</th>\n",
              "    </tr>\n",
              "  </thead>\n",
              "  <tbody>\n",
              "    <tr>\n",
              "      <th></th>\n",
              "      <td>24.626434</td>\n",
              "      <td>0.000018</td>\n",
              "      <td>3</td>\n",
              "      <td>Chấp nhận H1 với mức ý nghĩa 0.05</td>\n",
              "    </tr>\n",
              "  </tbody>\n",
              "</table>\n",
              "</div>"
            ],
            "text/plain": [
              "      score   p_value  dof                            KetLuan\n",
              "  24.626434  0.000018    3  Chấp nhận H1 với mức ý nghĩa 0.05"
            ]
          },
          "metadata": {
            "tags": []
          },
          "execution_count": 8
        }
      ]
    },
    {
      "cell_type": "markdown",
      "metadata": {
        "id": "D2aHQcncEkJC"
      },
      "source": [
        "**Về mặt thống kê, giới tính có ảnh hưởng đến điểm môn toán với mức ý nghĩa 5%**"
      ]
    },
    {
      "cell_type": "markdown",
      "metadata": {
        "id": "ocfB4E2ZC_If"
      },
      "source": [
        "## Kỹ thuật EDA"
      ]
    },
    {
      "cell_type": "code",
      "metadata": {
        "id": "QHmsy9EMDDBq"
      },
      "source": [
        "female = gen_math_df[gen_math_df['gender']=='female']\n",
        "male = gen_math_df[gen_math_df['gender']=='male']"
      ],
      "execution_count": null,
      "outputs": []
    },
    {
      "cell_type": "code",
      "metadata": {
        "colab": {
          "base_uri": "https://localhost:8080/",
          "height": 285
        },
        "id": "T7XqHSExDK1S",
        "outputId": "31f9495a-4377-4d07-a75f-01700990f2bd"
      },
      "source": [
        "sns.set(style='darkgrid')\n",
        "sns.histplot(data = female, x='math score', color = 'pink', label = 'female', kde = True)\n",
        "sns.histplot(data = male, x='math score', color='blue', label = 'male', kde=True)\n",
        "plt.legend()\n",
        "plt.show()"
      ],
      "execution_count": null,
      "outputs": [
        {
          "output_type": "display_data",
          "data": {
            "image/png": "[encoded data removed]",
            "text/plain": [
              "<Figure size 432x288 with 1 Axes>"
            ]
          },
          "metadata": {
            "tags": []
          }
        }
      ]
    },
    {
      "cell_type": "markdown",
      "metadata": {
        "id": "8Cjnh1oCFSNA"
      },
      "source": [
        "## Nghiên cứu biến Gender với Reading score"
      ]
    },
    {
      "cell_type": "markdown",
      "metadata": {
        "id": "hGLNlNYrG7Bz"
      },
      "source": [
        "**Phát biểu giả thuyết**\n",
        "\n",
        "$H_{0}$: Giới tính và điểm đọc không phụ thuộc nhau\n",
        "\n",
        "$H_{1}$: Giới tính và điểm đọc có mối liên hệ với nhau"
      ]
    },
    {
      "cell_type": "code",
      "metadata": {
        "colab": {
          "base_uri": "https://localhost:8080/",
          "height": 357
        },
        "id": "vSAtIOYvFZ3z",
        "outputId": "b15e8222-4887-42e6-91f8-bb7200f6a7d9"
      },
      "source": [
        "bins = [0, 60, 75, 85, 100]\n",
        "gen_read_df = df[['gender', 'reading score']].copy()\n",
        "gen_read_df['ThangDiem'] = pd.cut(gen_read_df['reading score'], bins, labels=['D','C','B','A'])\n",
        "gen_read_df.sample(10)"
      ],
      "execution_count": null,
      "outputs": [
        {
          "output_type": "execute_result",
          "data": {
            "text/html": [
              "<div>\n",
              "<style scoped>\n",
              "    .dataframe tbody tr th:only-of-type {\n",
              "        vertical-align: middle;\n",
              "    }\n",
              "\n",
              "    .dataframe tbody tr th {\n",
              "        vertical-align: top;\n",
              "    }\n",
              "\n",
              "    .dataframe thead th {\n",
              "        text-align: right;\n",
              "    }\n",
              "</style>\n",
              "<table border=\"1\" class=\"dataframe\">\n",
              "  <thead>\n",
              "    <tr style=\"text-align: right;\">\n",
              "      <th></th>\n",
              "      <th>gender</th>\n",
              "      <th>reading score</th>\n",
              "      <th>ThangDiem</th>\n",
              "    </tr>\n",
              "  </thead>\n",
              "  <tbody>\n",
              "    <tr>\n",
              "      <th>102</th>\n",
              "      <td>female</td>\n",
              "      <td>91</td>\n",
              "      <td>A</td>\n",
              "    </tr>\n",
              "    <tr>\n",
              "      <th>237</th>\n",
              "      <td>female</td>\n",
              "      <td>60</td>\n",
              "      <td>D</td>\n",
              "    </tr>\n",
              "    <tr>\n",
              "      <th>640</th>\n",
              "      <td>male</td>\n",
              "      <td>52</td>\n",
              "      <td>D</td>\n",
              "    </tr>\n",
              "    <tr>\n",
              "      <th>263</th>\n",
              "      <td>female</td>\n",
              "      <td>93</td>\n",
              "      <td>A</td>\n",
              "    </tr>\n",
              "    <tr>\n",
              "      <th>442</th>\n",
              "      <td>female</td>\n",
              "      <td>73</td>\n",
              "      <td>C</td>\n",
              "    </tr>\n",
              "    <tr>\n",
              "      <th>871</th>\n",
              "      <td>female</td>\n",
              "      <td>72</td>\n",
              "      <td>C</td>\n",
              "    </tr>\n",
              "    <tr>\n",
              "      <th>293</th>\n",
              "      <td>female</td>\n",
              "      <td>73</td>\n",
              "      <td>C</td>\n",
              "    </tr>\n",
              "    <tr>\n",
              "      <th>935</th>\n",
              "      <td>male</td>\n",
              "      <td>63</td>\n",
              "      <td>C</td>\n",
              "    </tr>\n",
              "    <tr>\n",
              "      <th>673</th>\n",
              "      <td>female</td>\n",
              "      <td>84</td>\n",
              "      <td>B</td>\n",
              "    </tr>\n",
              "    <tr>\n",
              "      <th>46</th>\n",
              "      <td>female</td>\n",
              "      <td>65</td>\n",
              "      <td>C</td>\n",
              "    </tr>\n",
              "  </tbody>\n",
              "</table>\n",
              "</div>"
            ],
            "text/plain": [
              "     gender  reading score ThangDiem\n",
              "102  female             91         A\n",
              "237  female             60         D\n",
              "640    male             52         D\n",
              "263  female             93         A\n",
              "442  female             73         C\n",
              "871  female             72         C\n",
              "293  female             73         C\n",
              "935    male             63         C\n",
              "673  female             84         B\n",
              "46   female             65         C"
            ]
          },
          "metadata": {
            "tags": []
          },
          "execution_count": 12
        }
      ]
    },
    {
      "cell_type": "code",
      "metadata": {
        "colab": {
          "base_uri": "https://localhost:8080/",
          "height": 142
        },
        "id": "M_N6jqOlF6Pm",
        "outputId": "ecd8823d-1f2e-4949-ac93-d10de744de4b"
      },
      "source": [
        "tan_so_df = pd.crosstab(index = gen_read_df['gender'], columns=gen_read_df['ThangDiem'])\n",
        "tan_so_df"
      ],
      "execution_count": null,
      "outputs": [
        {
          "output_type": "execute_result",
          "data": {
            "text/html": [
              "<div>\n",
              "<style scoped>\n",
              "    .dataframe tbody tr th:only-of-type {\n",
              "        vertical-align: middle;\n",
              "    }\n",
              "\n",
              "    .dataframe tbody tr th {\n",
              "        vertical-align: top;\n",
              "    }\n",
              "\n",
              "    .dataframe thead th {\n",
              "        text-align: right;\n",
              "    }\n",
              "</style>\n",
              "<table border=\"1\" class=\"dataframe\">\n",
              "  <thead>\n",
              "    <tr style=\"text-align: right;\">\n",
              "      <th>ThangDiem</th>\n",
              "      <th>D</th>\n",
              "      <th>C</th>\n",
              "      <th>B</th>\n",
              "      <th>A</th>\n",
              "    </tr>\n",
              "    <tr>\n",
              "      <th>gender</th>\n",
              "      <th></th>\n",
              "      <th></th>\n",
              "      <th></th>\n",
              "      <th></th>\n",
              "    </tr>\n",
              "  </thead>\n",
              "  <tbody>\n",
              "    <tr>\n",
              "      <th>female</th>\n",
              "      <td>98</td>\n",
              "      <td>195</td>\n",
              "      <td>123</td>\n",
              "      <td>102</td>\n",
              "    </tr>\n",
              "    <tr>\n",
              "      <th>male</th>\n",
              "      <td>177</td>\n",
              "      <td>186</td>\n",
              "      <td>89</td>\n",
              "      <td>30</td>\n",
              "    </tr>\n",
              "  </tbody>\n",
              "</table>\n",
              "</div>"
            ],
            "text/plain": [
              "ThangDiem    D    C    B    A\n",
              "gender                       \n",
              "female      98  195  123  102\n",
              "male       177  186   89   30"
            ]
          },
          "metadata": {
            "tags": []
          },
          "execution_count": 13
        }
      ]
    },
    {
      "cell_type": "code",
      "metadata": {
        "id": "KOTG5e3lF-Xi"
      },
      "source": [
        "score, p_value, dof, expected = stats.chi2_contingency(tan_so_df)"
      ],
      "execution_count": null,
      "outputs": []
    },
    {
      "cell_type": "code",
      "metadata": {
        "colab": {
          "base_uri": "https://localhost:8080/",
          "height": 80
        },
        "id": "bCu-gRfFGEUW",
        "outputId": "f05696be-bb05-4c72-a22e-f4dae75aa12e"
      },
      "source": [
        "p = {}\n",
        "p['score'] = score\n",
        "p['p_value'] = p_value\n",
        "p['dof'] = dof\n",
        "results(p)"
      ],
      "execution_count": null,
      "outputs": [
        {
          "output_type": "execute_result",
          "data": {
            "text/html": [
              "<div>\n",
              "<style scoped>\n",
              "    .dataframe tbody tr th:only-of-type {\n",
              "        vertical-align: middle;\n",
              "    }\n",
              "\n",
              "    .dataframe tbody tr th {\n",
              "        vertical-align: top;\n",
              "    }\n",
              "\n",
              "    .dataframe thead th {\n",
              "        text-align: right;\n",
              "    }\n",
              "</style>\n",
              "<table border=\"1\" class=\"dataframe\">\n",
              "  <thead>\n",
              "    <tr style=\"text-align: right;\">\n",
              "      <th></th>\n",
              "      <th>score</th>\n",
              "      <th>p_value</th>\n",
              "      <th>dof</th>\n",
              "      <th>KetLuan</th>\n",
              "    </tr>\n",
              "  </thead>\n",
              "  <tbody>\n",
              "    <tr>\n",
              "      <th></th>\n",
              "      <td>66.422785</td>\n",
              "      <td>2.488690e-14</td>\n",
              "      <td>3</td>\n",
              "      <td>Chấp nhận H1 với mức ý nghĩa 0.05</td>\n",
              "    </tr>\n",
              "  </tbody>\n",
              "</table>\n",
              "</div>"
            ],
            "text/plain": [
              "      score       p_value  dof                            KetLuan\n",
              "  66.422785  2.488690e-14    3  Chấp nhận H1 với mức ý nghĩa 0.05"
            ]
          },
          "metadata": {
            "tags": []
          },
          "execution_count": 15
        }
      ]
    },
    {
      "cell_type": "markdown",
      "metadata": {
        "id": "HpZlkajDGIJc"
      },
      "source": [
        "**Về mặt thống kê, giới tính có ảnh hưởng đến điểm đọc với mức ý nghĩa 5%**"
      ]
    },
    {
      "cell_type": "markdown",
      "metadata": {
        "id": "crhBcZ6mGKAt"
      },
      "source": [
        "## Kỹ thuật EDA"
      ]
    },
    {
      "cell_type": "code",
      "metadata": {
        "id": "xu_lPoUqGa0Y"
      },
      "source": [
        "female = gen_read_df[gen_read_df['gender']=='female']\n",
        "male = gen_read_df[gen_read_df['gender']=='male']"
      ],
      "execution_count": null,
      "outputs": []
    },
    {
      "cell_type": "code",
      "metadata": {
        "colab": {
          "base_uri": "https://localhost:8080/",
          "height": 287
        },
        "id": "nZ8YXY7VGS0n",
        "outputId": "d3c4543e-9b6e-44e2-c3b4-4f7b5dcfb44d"
      },
      "source": [
        "sns.set(style='darkgrid')\n",
        "sns.histplot(data = female, x='reading score', color = 'yellow', label = 'female', kde = True)\n",
        "sns.histplot(data = male, x='reading score', color='blue', label = 'male', kde=True)\n",
        "plt.legend()\n",
        "plt.show()"
      ],
      "execution_count": null,
      "outputs": [
        {
          "output_type": "display_data",
          "data": {
            "image/png": "[encoded data removed]",
            "text/plain": [
              "<Figure size 432x288 with 1 Axes>"
            ]
          },
          "metadata": {
            "tags": []
          }
        }
      ]
    },
    {
      "cell_type": "markdown",
      "metadata": {
        "id": "eZ91nlOBGtpH"
      },
      "source": [
        "## Nghiên cứu biến Gender với Writing score"
      ]
    },
    {
      "cell_type": "markdown",
      "metadata": {
        "id": "wj5dPpYjHNvT"
      },
      "source": [
        "**Phát biểu giả thuyết**\n",
        "\n",
        "$H_{0}$: Giới tính và điểm viết không phụ thuộc nhau\n",
        "\n",
        "$H_{1}$: Giới tính và điểm viết có mối liên hệ với nhau"
      ]
    },
    {
      "cell_type": "code",
      "metadata": {
        "colab": {
          "base_uri": "https://localhost:8080/",
          "height": 357
        },
        "id": "-eCv77yVG3Ac",
        "outputId": "d5f5c594-ba1c-4f95-b164-acab818a6925"
      },
      "source": [
        "bins = [0, 60, 75, 85, 100]\n",
        "gen_write_df = df[['gender', 'writing score']].copy()\n",
        "gen_write_df['ThangDiem'] = pd.cut(gen_write_df['writing score'], bins, labels=['D','C','B','A'])\n",
        "gen_write_df.sample(10)"
      ],
      "execution_count": null,
      "outputs": [
        {
          "output_type": "execute_result",
          "data": {
            "text/html": [
              "<div>\n",
              "<style scoped>\n",
              "    .dataframe tbody tr th:only-of-type {\n",
              "        vertical-align: middle;\n",
              "    }\n",
              "\n",
              "    .dataframe tbody tr th {\n",
              "        vertical-align: top;\n",
              "    }\n",
              "\n",
              "    .dataframe thead th {\n",
              "        text-align: right;\n",
              "    }\n",
              "</style>\n",
              "<table border=\"1\" class=\"dataframe\">\n",
              "  <thead>\n",
              "    <tr style=\"text-align: right;\">\n",
              "      <th></th>\n",
              "      <th>gender</th>\n",
              "      <th>writing score</th>\n",
              "      <th>ThangDiem</th>\n",
              "    </tr>\n",
              "  </thead>\n",
              "  <tbody>\n",
              "    <tr>\n",
              "      <th>698</th>\n",
              "      <td>female</td>\n",
              "      <td>79</td>\n",
              "      <td>B</td>\n",
              "    </tr>\n",
              "    <tr>\n",
              "      <th>386</th>\n",
              "      <td>female</td>\n",
              "      <td>70</td>\n",
              "      <td>C</td>\n",
              "    </tr>\n",
              "    <tr>\n",
              "      <th>269</th>\n",
              "      <td>female</td>\n",
              "      <td>70</td>\n",
              "      <td>C</td>\n",
              "    </tr>\n",
              "    <tr>\n",
              "      <th>550</th>\n",
              "      <td>male</td>\n",
              "      <td>65</td>\n",
              "      <td>C</td>\n",
              "    </tr>\n",
              "    <tr>\n",
              "      <th>377</th>\n",
              "      <td>female</td>\n",
              "      <td>100</td>\n",
              "      <td>A</td>\n",
              "    </tr>\n",
              "    <tr>\n",
              "      <th>385</th>\n",
              "      <td>female</td>\n",
              "      <td>75</td>\n",
              "      <td>C</td>\n",
              "    </tr>\n",
              "    <tr>\n",
              "      <th>796</th>\n",
              "      <td>male</td>\n",
              "      <td>70</td>\n",
              "      <td>C</td>\n",
              "    </tr>\n",
              "    <tr>\n",
              "      <th>433</th>\n",
              "      <td>female</td>\n",
              "      <td>50</td>\n",
              "      <td>D</td>\n",
              "    </tr>\n",
              "    <tr>\n",
              "      <th>568</th>\n",
              "      <td>male</td>\n",
              "      <td>47</td>\n",
              "      <td>D</td>\n",
              "    </tr>\n",
              "    <tr>\n",
              "      <th>758</th>\n",
              "      <td>female</td>\n",
              "      <td>65</td>\n",
              "      <td>C</td>\n",
              "    </tr>\n",
              "  </tbody>\n",
              "</table>\n",
              "</div>"
            ],
            "text/plain": [
              "     gender  writing score ThangDiem\n",
              "698  female             79         B\n",
              "386  female             70         C\n",
              "269  female             70         C\n",
              "550    male             65         C\n",
              "377  female            100         A\n",
              "385  female             75         C\n",
              "796    male             70         C\n",
              "433  female             50         D\n",
              "568    male             47         D\n",
              "758  female             65         C"
            ]
          },
          "metadata": {
            "tags": []
          },
          "execution_count": 18
        }
      ]
    },
    {
      "cell_type": "code",
      "metadata": {
        "colab": {
          "base_uri": "https://localhost:8080/",
          "height": 142
        },
        "id": "73_yWAFFHkmE",
        "outputId": "82a0751a-4fe8-446b-ce4a-e69ba3c8afdf"
      },
      "source": [
        "tan_so_df = pd.crosstab(index = gen_write_df['gender'], columns=gen_write_df['ThangDiem'])\n",
        "tan_so_df"
      ],
      "execution_count": null,
      "outputs": [
        {
          "output_type": "execute_result",
          "data": {
            "text/html": [
              "<div>\n",
              "<style scoped>\n",
              "    .dataframe tbody tr th:only-of-type {\n",
              "        vertical-align: middle;\n",
              "    }\n",
              "\n",
              "    .dataframe tbody tr th {\n",
              "        vertical-align: top;\n",
              "    }\n",
              "\n",
              "    .dataframe thead th {\n",
              "        text-align: right;\n",
              "    }\n",
              "</style>\n",
              "<table border=\"1\" class=\"dataframe\">\n",
              "  <thead>\n",
              "    <tr style=\"text-align: right;\">\n",
              "      <th>ThangDiem</th>\n",
              "      <th>D</th>\n",
              "      <th>C</th>\n",
              "      <th>B</th>\n",
              "      <th>A</th>\n",
              "    </tr>\n",
              "    <tr>\n",
              "      <th>gender</th>\n",
              "      <th></th>\n",
              "      <th></th>\n",
              "      <th></th>\n",
              "      <th></th>\n",
              "    </tr>\n",
              "  </thead>\n",
              "  <tbody>\n",
              "    <tr>\n",
              "      <th>female</th>\n",
              "      <td>100</td>\n",
              "      <td>187</td>\n",
              "      <td>137</td>\n",
              "      <td>94</td>\n",
              "    </tr>\n",
              "    <tr>\n",
              "      <th>male</th>\n",
              "      <td>201</td>\n",
              "      <td>184</td>\n",
              "      <td>70</td>\n",
              "      <td>27</td>\n",
              "    </tr>\n",
              "  </tbody>\n",
              "</table>\n",
              "</div>"
            ],
            "text/plain": [
              "ThangDiem    D    C    B   A\n",
              "gender                      \n",
              "female     100  187  137  94\n",
              "male       201  184   70  27"
            ]
          },
          "metadata": {
            "tags": []
          },
          "execution_count": 19
        }
      ]
    },
    {
      "cell_type": "code",
      "metadata": {
        "id": "OvXrurOfHpRe"
      },
      "source": [
        "score, p_value, dof, expected = stats.chi2_contingency(tan_so_df)"
      ],
      "execution_count": null,
      "outputs": []
    },
    {
      "cell_type": "code",
      "metadata": {
        "colab": {
          "base_uri": "https://localhost:8080/",
          "height": 80
        },
        "id": "-xEfO9zPHsZH",
        "outputId": "5ee64855-e92c-4455-c6b5-745b7eb549d4"
      },
      "source": [
        "p = {}\n",
        "p['score'] = score\n",
        "p['p_value'] = p_value\n",
        "p['dof'] = dof\n",
        "results(p)"
      ],
      "execution_count": null,
      "outputs": [
        {
          "output_type": "execute_result",
          "data": {
            "text/html": [
              "<div>\n",
              "<style scoped>\n",
              "    .dataframe tbody tr th:only-of-type {\n",
              "        vertical-align: middle;\n",
              "    }\n",
              "\n",
              "    .dataframe tbody tr th {\n",
              "        vertical-align: top;\n",
              "    }\n",
              "\n",
              "    .dataframe thead th {\n",
              "        text-align: right;\n",
              "    }\n",
              "</style>\n",
              "<table border=\"1\" class=\"dataframe\">\n",
              "  <thead>\n",
              "    <tr style=\"text-align: right;\">\n",
              "      <th></th>\n",
              "      <th>score</th>\n",
              "      <th>p_value</th>\n",
              "      <th>dof</th>\n",
              "      <th>KetLuan</th>\n",
              "    </tr>\n",
              "  </thead>\n",
              "  <tbody>\n",
              "    <tr>\n",
              "      <th></th>\n",
              "      <td>91.522401</td>\n",
              "      <td>1.031660e-19</td>\n",
              "      <td>3</td>\n",
              "      <td>Chấp nhận H1 với mức ý nghĩa 0.05</td>\n",
              "    </tr>\n",
              "  </tbody>\n",
              "</table>\n",
              "</div>"
            ],
            "text/plain": [
              "      score       p_value  dof                            KetLuan\n",
              "  91.522401  1.031660e-19    3  Chấp nhận H1 với mức ý nghĩa 0.05"
            ]
          },
          "metadata": {
            "tags": []
          },
          "execution_count": 21
        }
      ]
    },
    {
      "cell_type": "markdown",
      "metadata": {
        "id": "-j5lnQuPHuKb"
      },
      "source": [
        "**Về mặt thống kê, giới tính có ảnh hưởng đến điểm viết với mức ý nghĩa 5%**"
      ]
    },
    {
      "cell_type": "markdown",
      "metadata": {
        "id": "EYhvZMTkHw1T"
      },
      "source": [
        "## Kỹ thuật EDA"
      ]
    },
    {
      "cell_type": "code",
      "metadata": {
        "id": "XDpiEUk5HzGu"
      },
      "source": [
        "female = gen_write_df[gen_write_df['gender']=='female']\n",
        "male = gen_write_df[gen_write_df['gender']=='male']"
      ],
      "execution_count": null,
      "outputs": []
    },
    {
      "cell_type": "code",
      "metadata": {
        "colab": {
          "base_uri": "https://localhost:8080/",
          "height": 285
        },
        "id": "Cjww6fOgH3Ec",
        "outputId": "806ed3ab-10dd-465e-ee29-c82e30774140"
      },
      "source": [
        "sns.set(style='darkgrid')\n",
        "sns.histplot(data = female, x='writing score', color = 'red', label = 'female', kde = True)\n",
        "sns.histplot(data = male, x='writing score', color='blue', label = 'male', kde=True)\n",
        "plt.legend()\n",
        "plt.show()"
      ],
      "execution_count": null,
      "outputs": [
        {
          "output_type": "display_data",
          "data": {
            "image/png": "[encoded data removed]",
            "text/plain": [
              "<Figure size 432x288 with 1 Axes>"
            ]
          },
          "metadata": {
            "tags": []
          }
        }
      ]
    },
    {
      "cell_type": "markdown",
      "metadata": {
        "id": "f2ClKy2zIIqW"
      },
      "source": [
        "## Nghiên cứu ảnh hưởng của Lunch đến Math score"
      ]
    },
    {
      "cell_type": "markdown",
      "metadata": {
        "id": "e-oU4vvgIMvb"
      },
      "source": [
        "**Phát biểu giả thuyết**\n",
        "\n",
        "$H_{0}$: Ăn trưa và điểm toán không phụ thuộc nhau\n",
        "\n",
        "$H_{1}$: Ăn trưa và điểm toán có mối liên hệ với nhau"
      ]
    },
    {
      "cell_type": "code",
      "metadata": {
        "colab": {
          "base_uri": "https://localhost:8080/",
          "height": 357
        },
        "id": "VSNDWg-kIVKS",
        "outputId": "1ea15da6-d488-4611-e838-c1fea5e50cb6"
      },
      "source": [
        "bins = [0, 60, 75, 85, 100]\n",
        "lun_math_df = df[['lunch', 'math score']].copy()\n",
        "lun_math_df['ThangDiem'] = pd.cut(lun_math_df['math score'], bins, labels=['D','C','B','A'])\n",
        "lun_math_df.sample(10)"
      ],
      "execution_count": null,
      "outputs": [
        {
          "output_type": "execute_result",
          "data": {
            "text/html": [
              "<div>\n",
              "<style scoped>\n",
              "    .dataframe tbody tr th:only-of-type {\n",
              "        vertical-align: middle;\n",
              "    }\n",
              "\n",
              "    .dataframe tbody tr th {\n",
              "        vertical-align: top;\n",
              "    }\n",
              "\n",
              "    .dataframe thead th {\n",
              "        text-align: right;\n",
              "    }\n",
              "</style>\n",
              "<table border=\"1\" class=\"dataframe\">\n",
              "  <thead>\n",
              "    <tr style=\"text-align: right;\">\n",
              "      <th></th>\n",
              "      <th>lunch</th>\n",
              "      <th>math score</th>\n",
              "      <th>ThangDiem</th>\n",
              "    </tr>\n",
              "  </thead>\n",
              "  <tbody>\n",
              "    <tr>\n",
              "      <th>475</th>\n",
              "      <td>standard</td>\n",
              "      <td>71</td>\n",
              "      <td>C</td>\n",
              "    </tr>\n",
              "    <tr>\n",
              "      <th>972</th>\n",
              "      <td>free/reduced</td>\n",
              "      <td>53</td>\n",
              "      <td>D</td>\n",
              "    </tr>\n",
              "    <tr>\n",
              "      <th>729</th>\n",
              "      <td>standard</td>\n",
              "      <td>53</td>\n",
              "      <td>D</td>\n",
              "    </tr>\n",
              "    <tr>\n",
              "      <th>367</th>\n",
              "      <td>free/reduced</td>\n",
              "      <td>61</td>\n",
              "      <td>C</td>\n",
              "    </tr>\n",
              "    <tr>\n",
              "      <th>75</th>\n",
              "      <td>free/reduced</td>\n",
              "      <td>44</td>\n",
              "      <td>D</td>\n",
              "    </tr>\n",
              "    <tr>\n",
              "      <th>775</th>\n",
              "      <td>free/reduced</td>\n",
              "      <td>49</td>\n",
              "      <td>D</td>\n",
              "    </tr>\n",
              "    <tr>\n",
              "      <th>609</th>\n",
              "      <td>standard</td>\n",
              "      <td>58</td>\n",
              "      <td>D</td>\n",
              "    </tr>\n",
              "    <tr>\n",
              "      <th>255</th>\n",
              "      <td>standard</td>\n",
              "      <td>62</td>\n",
              "      <td>C</td>\n",
              "    </tr>\n",
              "    <tr>\n",
              "      <th>375</th>\n",
              "      <td>free/reduced</td>\n",
              "      <td>46</td>\n",
              "      <td>D</td>\n",
              "    </tr>\n",
              "    <tr>\n",
              "      <th>565</th>\n",
              "      <td>standard</td>\n",
              "      <td>48</td>\n",
              "      <td>D</td>\n",
              "    </tr>\n",
              "  </tbody>\n",
              "</table>\n",
              "</div>"
            ],
            "text/plain": [
              "            lunch  math score ThangDiem\n",
              "475      standard          71         C\n",
              "972  free/reduced          53         D\n",
              "729      standard          53         D\n",
              "367  free/reduced          61         C\n",
              "75   free/reduced          44         D\n",
              "775  free/reduced          49         D\n",
              "609      standard          58         D\n",
              "255      standard          62         C\n",
              "375  free/reduced          46         D\n",
              "565      standard          48         D"
            ]
          },
          "metadata": {
            "tags": []
          },
          "execution_count": 24
        }
      ]
    },
    {
      "cell_type": "code",
      "metadata": {
        "colab": {
          "base_uri": "https://localhost:8080/",
          "height": 142
        },
        "id": "V0tB5xgLIltq",
        "outputId": "93be2248-b5f9-4e8c-e61e-a4cc784b6b56"
      },
      "source": [
        "tan_so_df = pd.crosstab(index = lun_math_df['lunch'], columns=lun_math_df['ThangDiem'])\n",
        "tan_so_df"
      ],
      "execution_count": null,
      "outputs": [
        {
          "output_type": "execute_result",
          "data": {
            "text/html": [
              "<div>\n",
              "<style scoped>\n",
              "    .dataframe tbody tr th:only-of-type {\n",
              "        vertical-align: middle;\n",
              "    }\n",
              "\n",
              "    .dataframe tbody tr th {\n",
              "        vertical-align: top;\n",
              "    }\n",
              "\n",
              "    .dataframe thead th {\n",
              "        text-align: right;\n",
              "    }\n",
              "</style>\n",
              "<table border=\"1\" class=\"dataframe\">\n",
              "  <thead>\n",
              "    <tr style=\"text-align: right;\">\n",
              "      <th>ThangDiem</th>\n",
              "      <th>D</th>\n",
              "      <th>C</th>\n",
              "      <th>B</th>\n",
              "      <th>A</th>\n",
              "    </tr>\n",
              "    <tr>\n",
              "      <th>lunch</th>\n",
              "      <th></th>\n",
              "      <th></th>\n",
              "      <th></th>\n",
              "      <th></th>\n",
              "    </tr>\n",
              "  </thead>\n",
              "  <tbody>\n",
              "    <tr>\n",
              "      <th>free/reduced</th>\n",
              "      <td>181</td>\n",
              "      <td>124</td>\n",
              "      <td>37</td>\n",
              "      <td>12</td>\n",
              "    </tr>\n",
              "    <tr>\n",
              "      <th>standard</th>\n",
              "      <td>157</td>\n",
              "      <td>263</td>\n",
              "      <td>134</td>\n",
              "      <td>91</td>\n",
              "    </tr>\n",
              "  </tbody>\n",
              "</table>\n",
              "</div>"
            ],
            "text/plain": [
              "ThangDiem       D    C    B   A\n",
              "lunch                          \n",
              "free/reduced  181  124   37  12\n",
              "standard      157  263  134  91"
            ]
          },
          "metadata": {
            "tags": []
          },
          "execution_count": 25
        }
      ]
    },
    {
      "cell_type": "code",
      "metadata": {
        "id": "8U8qhWi4IsWI"
      },
      "source": [
        "score, p_value, dof, expected = stats.chi2_contingency(tan_so_df)"
      ],
      "execution_count": null,
      "outputs": []
    },
    {
      "cell_type": "code",
      "metadata": {
        "colab": {
          "base_uri": "https://localhost:8080/",
          "height": 80
        },
        "id": "yBU9qsc7Iu0i",
        "outputId": "0136c42c-973f-4b79-c9a3-c7bb893235d0"
      },
      "source": [
        "p = {}\n",
        "p['score'] = score\n",
        "p['p_value'] = p_value\n",
        "p['dof'] = dof\n",
        "results(p)"
      ],
      "execution_count": null,
      "outputs": [
        {
          "output_type": "execute_result",
          "data": {
            "text/html": [
              "<div>\n",
              "<style scoped>\n",
              "    .dataframe tbody tr th:only-of-type {\n",
              "        vertical-align: middle;\n",
              "    }\n",
              "\n",
              "    .dataframe tbody tr th {\n",
              "        vertical-align: top;\n",
              "    }\n",
              "\n",
              "    .dataframe thead th {\n",
              "        text-align: right;\n",
              "    }\n",
              "</style>\n",
              "<table border=\"1\" class=\"dataframe\">\n",
              "  <thead>\n",
              "    <tr style=\"text-align: right;\">\n",
              "      <th></th>\n",
              "      <th>score</th>\n",
              "      <th>p_value</th>\n",
              "      <th>dof</th>\n",
              "      <th>KetLuan</th>\n",
              "    </tr>\n",
              "  </thead>\n",
              "  <tbody>\n",
              "    <tr>\n",
              "      <th></th>\n",
              "      <td>90.126341</td>\n",
              "      <td>2.057882e-19</td>\n",
              "      <td>3</td>\n",
              "      <td>Chấp nhận H1 với mức ý nghĩa 0.05</td>\n",
              "    </tr>\n",
              "  </tbody>\n",
              "</table>\n",
              "</div>"
            ],
            "text/plain": [
              "      score       p_value  dof                            KetLuan\n",
              "  90.126341  2.057882e-19    3  Chấp nhận H1 với mức ý nghĩa 0.05"
            ]
          },
          "metadata": {
            "tags": []
          },
          "execution_count": 27
        }
      ]
    },
    {
      "cell_type": "markdown",
      "metadata": {
        "id": "T_QG5jU6IyNo"
      },
      "source": [
        "**Về mặt thống kê, ăn trưa có ảnh hưởng đến điểm môn toán với mức ý nghĩa 5%**"
      ]
    },
    {
      "cell_type": "markdown",
      "metadata": {
        "id": "oFqo7QrHIywa"
      },
      "source": [
        "## Kỹ thuật EDA"
      ]
    },
    {
      "cell_type": "code",
      "metadata": {
        "id": "mjOrhSveI1m2"
      },
      "source": [
        "standard = lun_math_df[lun_math_df['lunch']=='standard']\n",
        "free_or_reduced = lun_math_df[lun_math_df['lunch']=='free/reduced']"
      ],
      "execution_count": null,
      "outputs": []
    },
    {
      "cell_type": "code",
      "metadata": {
        "colab": {
          "base_uri": "https://localhost:8080/",
          "height": 285
        },
        "id": "aAEVPb9NMpbD",
        "outputId": "78d863ce-6d01-4558-b6a2-0b515d7f5925"
      },
      "source": [
        "sns.set(style='darkgrid')\n",
        "sns.histplot(data = standard, x='math score', color = 'pink', label = 'standard', kde = True)\n",
        "sns.histplot(data = free_or_reduced, x='math score', color='blue', label = 'free/reduced', kde=True)\n",
        "plt.legend()\n",
        "plt.show()"
      ],
      "execution_count": null,
      "outputs": [
        {
          "output_type": "display_data",
          "data": {
            "image/png": "[encoded data removed]",
            "text/plain": [
              "<Figure size 432x288 with 1 Axes>"
            ]
          },
          "metadata": {
            "tags": []
          }
        }
      ]
    },
    {
      "cell_type": "markdown",
      "metadata": {
        "id": "UbgSA5_ENB3j"
      },
      "source": [
        ""
      ]
    },
    {
      "cell_type": "markdown",
      "metadata": {
        "id": "RJ6OKYvjNDSZ"
      },
      "source": [
        "## Nghiên cứu ảnh hưởng của Lunch đến Reading score"
      ]
    },
    {
      "cell_type": "markdown",
      "metadata": {
        "id": "CVpQdxrcNJb2"
      },
      "source": [
        "**Phát biểu giả thuyết**\n",
        "\n",
        "$H_{0}$: Ăn trưa và điểm đọc không phụ thuộc nhau\n",
        "\n",
        "$H_{1}$: Ăn trưa và điểm đọc có mối liên hệ với nhau"
      ]
    },
    {
      "cell_type": "code",
      "metadata": {
        "colab": {
          "base_uri": "https://localhost:8080/",
          "height": 357
        },
        "id": "ZRxHVMs2NJAa",
        "outputId": "fab6511f-1d50-4bf6-e193-942a3e22a3f7"
      },
      "source": [
        "bins = [0, 60, 75, 85, 100]\n",
        "lun_read_df = df[['lunch', 'reading score']].copy()\n",
        "lun_read_df['ThangDiem'] = pd.cut(lun_read_df['reading score'], bins, labels=['D','C','B','A'])\n",
        "lun_read_df.sample(10)"
      ],
      "execution_count": null,
      "outputs": [
        {
          "output_type": "execute_result",
          "data": {
            "text/html": [
              "<div>\n",
              "<style scoped>\n",
              "    .dataframe tbody tr th:only-of-type {\n",
              "        vertical-align: middle;\n",
              "    }\n",
              "\n",
              "    .dataframe tbody tr th {\n",
              "        vertical-align: top;\n",
              "    }\n",
              "\n",
              "    .dataframe thead th {\n",
              "        text-align: right;\n",
              "    }\n",
              "</style>\n",
              "<table border=\"1\" class=\"dataframe\">\n",
              "  <thead>\n",
              "    <tr style=\"text-align: right;\">\n",
              "      <th></th>\n",
              "      <th>lunch</th>\n",
              "      <th>reading score</th>\n",
              "      <th>ThangDiem</th>\n",
              "    </tr>\n",
              "  </thead>\n",
              "  <tbody>\n",
              "    <tr>\n",
              "      <th>592</th>\n",
              "      <td>standard</td>\n",
              "      <td>68</td>\n",
              "      <td>C</td>\n",
              "    </tr>\n",
              "    <tr>\n",
              "      <th>903</th>\n",
              "      <td>free/reduced</td>\n",
              "      <td>100</td>\n",
              "      <td>A</td>\n",
              "    </tr>\n",
              "    <tr>\n",
              "      <th>689</th>\n",
              "      <td>free/reduced</td>\n",
              "      <td>90</td>\n",
              "      <td>A</td>\n",
              "    </tr>\n",
              "    <tr>\n",
              "      <th>147</th>\n",
              "      <td>free/reduced</td>\n",
              "      <td>68</td>\n",
              "      <td>C</td>\n",
              "    </tr>\n",
              "    <tr>\n",
              "      <th>909</th>\n",
              "      <td>standard</td>\n",
              "      <td>64</td>\n",
              "      <td>C</td>\n",
              "    </tr>\n",
              "    <tr>\n",
              "      <th>106</th>\n",
              "      <td>standard</td>\n",
              "      <td>100</td>\n",
              "      <td>A</td>\n",
              "    </tr>\n",
              "    <tr>\n",
              "      <th>338</th>\n",
              "      <td>free/reduced</td>\n",
              "      <td>38</td>\n",
              "      <td>D</td>\n",
              "    </tr>\n",
              "    <tr>\n",
              "      <th>38</th>\n",
              "      <td>free/reduced</td>\n",
              "      <td>90</td>\n",
              "      <td>A</td>\n",
              "    </tr>\n",
              "    <tr>\n",
              "      <th>361</th>\n",
              "      <td>standard</td>\n",
              "      <td>84</td>\n",
              "      <td>B</td>\n",
              "    </tr>\n",
              "    <tr>\n",
              "      <th>925</th>\n",
              "      <td>standard</td>\n",
              "      <td>64</td>\n",
              "      <td>C</td>\n",
              "    </tr>\n",
              "  </tbody>\n",
              "</table>\n",
              "</div>"
            ],
            "text/plain": [
              "            lunch  reading score ThangDiem\n",
              "592      standard             68         C\n",
              "903  free/reduced            100         A\n",
              "689  free/reduced             90         A\n",
              "147  free/reduced             68         C\n",
              "909      standard             64         C\n",
              "106      standard            100         A\n",
              "338  free/reduced             38         D\n",
              "38   free/reduced             90         A\n",
              "361      standard             84         B\n",
              "925      standard             64         C"
            ]
          },
          "metadata": {
            "tags": []
          },
          "execution_count": 30
        }
      ]
    },
    {
      "cell_type": "code",
      "metadata": {
        "colab": {
          "base_uri": "https://localhost:8080/",
          "height": 142
        },
        "id": "2FSy7ikRNfrK",
        "outputId": "3c600a54-acb4-4bdb-9d86-45f79b7bb632"
      },
      "source": [
        "tan_so_df = pd.crosstab(index = lun_read_df['lunch'], columns=lun_read_df['ThangDiem'])\n",
        "tan_so_df"
      ],
      "execution_count": null,
      "outputs": [
        {
          "output_type": "execute_result",
          "data": {
            "text/html": [
              "<div>\n",
              "<style scoped>\n",
              "    .dataframe tbody tr th:only-of-type {\n",
              "        vertical-align: middle;\n",
              "    }\n",
              "\n",
              "    .dataframe tbody tr th {\n",
              "        vertical-align: top;\n",
              "    }\n",
              "\n",
              "    .dataframe thead th {\n",
              "        text-align: right;\n",
              "    }\n",
              "</style>\n",
              "<table border=\"1\" class=\"dataframe\">\n",
              "  <thead>\n",
              "    <tr style=\"text-align: right;\">\n",
              "      <th>ThangDiem</th>\n",
              "      <th>D</th>\n",
              "      <th>C</th>\n",
              "      <th>B</th>\n",
              "      <th>A</th>\n",
              "    </tr>\n",
              "    <tr>\n",
              "      <th>lunch</th>\n",
              "      <th></th>\n",
              "      <th></th>\n",
              "      <th></th>\n",
              "      <th></th>\n",
              "    </tr>\n",
              "  </thead>\n",
              "  <tbody>\n",
              "    <tr>\n",
              "      <th>free/reduced</th>\n",
              "      <td>139</td>\n",
              "      <td>130</td>\n",
              "      <td>56</td>\n",
              "      <td>30</td>\n",
              "    </tr>\n",
              "    <tr>\n",
              "      <th>standard</th>\n",
              "      <td>136</td>\n",
              "      <td>251</td>\n",
              "      <td>156</td>\n",
              "      <td>102</td>\n",
              "    </tr>\n",
              "  </tbody>\n",
              "</table>\n",
              "</div>"
            ],
            "text/plain": [
              "ThangDiem       D    C    B    A\n",
              "lunch                           \n",
              "free/reduced  139  130   56   30\n",
              "standard      136  251  156  102"
            ]
          },
          "metadata": {
            "tags": []
          },
          "execution_count": 31
        }
      ]
    },
    {
      "cell_type": "code",
      "metadata": {
        "colab": {
          "base_uri": "https://localhost:8080/",
          "height": 80
        },
        "id": "jo4B_zkONkVW",
        "outputId": "476a2ebb-72df-4bca-cf2e-06301e748352"
      },
      "source": [
        "score, p_value, dof, expected = stats.chi2_contingency(tan_so_df)\n",
        "p = {}\n",
        "p['score'] = score\n",
        "p['p_value'] = p_value\n",
        "p['dof'] = dof\n",
        "results(p)"
      ],
      "execution_count": null,
      "outputs": [
        {
          "output_type": "execute_result",
          "data": {
            "text/html": [
              "<div>\n",
              "<style scoped>\n",
              "    .dataframe tbody tr th:only-of-type {\n",
              "        vertical-align: middle;\n",
              "    }\n",
              "\n",
              "    .dataframe tbody tr th {\n",
              "        vertical-align: top;\n",
              "    }\n",
              "\n",
              "    .dataframe thead th {\n",
              "        text-align: right;\n",
              "    }\n",
              "</style>\n",
              "<table border=\"1\" class=\"dataframe\">\n",
              "  <thead>\n",
              "    <tr style=\"text-align: right;\">\n",
              "      <th></th>\n",
              "      <th>score</th>\n",
              "      <th>p_value</th>\n",
              "      <th>dof</th>\n",
              "      <th>KetLuan</th>\n",
              "    </tr>\n",
              "  </thead>\n",
              "  <tbody>\n",
              "    <tr>\n",
              "      <th></th>\n",
              "      <td>44.549719</td>\n",
              "      <td>1.153330e-09</td>\n",
              "      <td>3</td>\n",
              "      <td>Chấp nhận H1 với mức ý nghĩa 0.05</td>\n",
              "    </tr>\n",
              "  </tbody>\n",
              "</table>\n",
              "</div>"
            ],
            "text/plain": [
              "      score       p_value  dof                            KetLuan\n",
              "  44.549719  1.153330e-09    3  Chấp nhận H1 với mức ý nghĩa 0.05"
            ]
          },
          "metadata": {
            "tags": []
          },
          "execution_count": 32
        }
      ]
    },
    {
      "cell_type": "markdown",
      "metadata": {
        "id": "2VMSPnOvNp5i"
      },
      "source": [
        "**Về mặt thống kê, ăn trưa có ảnh hưởng đến điểm đọc với mức ý nghĩa 5%**"
      ]
    },
    {
      "cell_type": "markdown",
      "metadata": {
        "id": "WldskruQNtrQ"
      },
      "source": [
        "## Kỹ thuật EDA"
      ]
    },
    {
      "cell_type": "code",
      "metadata": {
        "id": "dz4nyfVlNvpp"
      },
      "source": [
        "standard = lun_read_df[lun_read_df['lunch']=='standard']\n",
        "free_or_reduced = lun_read_df[lun_read_df['lunch']=='free/reduced']"
      ],
      "execution_count": null,
      "outputs": []
    },
    {
      "cell_type": "code",
      "metadata": {
        "colab": {
          "base_uri": "https://localhost:8080/",
          "height": 285
        },
        "id": "63kQb-NDN3gi",
        "outputId": "6ab9918c-1cc0-489e-9a2f-6da3cc5dadf2"
      },
      "source": [
        "sns.set(style='darkgrid')\n",
        "sns.histplot(data = standard, x='reading score', color = 'black', label = 'standard', kde = True)\n",
        "sns.histplot(data = free_or_reduced, x='reading score', color='white', label = 'free/reduced', kde=True)\n",
        "plt.legend()\n",
        "plt.show()"
      ],
      "execution_count": null,
      "outputs": [
        {
          "output_type": "display_data",
          "data": {
            "image/png": "[encoded data removed]",
            "text/plain": [
              "<Figure size 432x288 with 1 Axes>"
            ]
          },
          "metadata": {
            "tags": []
          }
        }
      ]
    },
    {
      "cell_type": "markdown",
      "metadata": {
        "id": "ooGwgo8HOdyj"
      },
      "source": [
        "## Ảnh hưởng của Lunch đến Writing score"
      ]
    },
    {
      "cell_type": "markdown",
      "metadata": {
        "id": "xycFJ6A4Oh1b"
      },
      "source": [
        "**Phát biểu giả thuyết**\n",
        "\n",
        "$H_{0}$: Ăn trưa và điểm viết không phụ thuộc nhau\n",
        "\n",
        "$H_{1}$: Ăn trưa và điểm viết có mối liên hệ với nhau"
      ]
    },
    {
      "cell_type": "code",
      "metadata": {
        "colab": {
          "base_uri": "https://localhost:8080/",
          "height": 357
        },
        "id": "Ucbisf0iOnnt",
        "outputId": "d1693916-8cf1-4e46-9fe9-01b1ceadbca4"
      },
      "source": [
        "bins = [0, 60, 75, 85, 100]\n",
        "lun_write_df = df[['lunch', 'writing score']].copy()\n",
        "lun_write_df['ThangDiem'] = pd.cut(lun_write_df['writing score'], bins, labels=['D','C','B','A'])\n",
        "lun_write_df.sample(10)"
      ],
      "execution_count": null,
      "outputs": [
        {
          "output_type": "execute_result",
          "data": {
            "text/html": [
              "<div>\n",
              "<style scoped>\n",
              "    .dataframe tbody tr th:only-of-type {\n",
              "        vertical-align: middle;\n",
              "    }\n",
              "\n",
              "    .dataframe tbody tr th {\n",
              "        vertical-align: top;\n",
              "    }\n",
              "\n",
              "    .dataframe thead th {\n",
              "        text-align: right;\n",
              "    }\n",
              "</style>\n",
              "<table border=\"1\" class=\"dataframe\">\n",
              "  <thead>\n",
              "    <tr style=\"text-align: right;\">\n",
              "      <th></th>\n",
              "      <th>lunch</th>\n",
              "      <th>writing score</th>\n",
              "      <th>ThangDiem</th>\n",
              "    </tr>\n",
              "  </thead>\n",
              "  <tbody>\n",
              "    <tr>\n",
              "      <th>600</th>\n",
              "      <td>standard</td>\n",
              "      <td>63</td>\n",
              "      <td>C</td>\n",
              "    </tr>\n",
              "    <tr>\n",
              "      <th>969</th>\n",
              "      <td>standard</td>\n",
              "      <td>80</td>\n",
              "      <td>B</td>\n",
              "    </tr>\n",
              "    <tr>\n",
              "      <th>467</th>\n",
              "      <td>free/reduced</td>\n",
              "      <td>65</td>\n",
              "      <td>C</td>\n",
              "    </tr>\n",
              "    <tr>\n",
              "      <th>781</th>\n",
              "      <td>standard</td>\n",
              "      <td>84</td>\n",
              "      <td>B</td>\n",
              "    </tr>\n",
              "    <tr>\n",
              "      <th>295</th>\n",
              "      <td>free/reduced</td>\n",
              "      <td>60</td>\n",
              "      <td>D</td>\n",
              "    </tr>\n",
              "    <tr>\n",
              "      <th>754</th>\n",
              "      <td>free/reduced</td>\n",
              "      <td>53</td>\n",
              "      <td>D</td>\n",
              "    </tr>\n",
              "    <tr>\n",
              "      <th>394</th>\n",
              "      <td>standard</td>\n",
              "      <td>77</td>\n",
              "      <td>B</td>\n",
              "    </tr>\n",
              "    <tr>\n",
              "      <th>3</th>\n",
              "      <td>free/reduced</td>\n",
              "      <td>44</td>\n",
              "      <td>D</td>\n",
              "    </tr>\n",
              "    <tr>\n",
              "      <th>601</th>\n",
              "      <td>standard</td>\n",
              "      <td>30</td>\n",
              "      <td>D</td>\n",
              "    </tr>\n",
              "    <tr>\n",
              "      <th>1</th>\n",
              "      <td>standard</td>\n",
              "      <td>88</td>\n",
              "      <td>A</td>\n",
              "    </tr>\n",
              "  </tbody>\n",
              "</table>\n",
              "</div>"
            ],
            "text/plain": [
              "            lunch  writing score ThangDiem\n",
              "600      standard             63         C\n",
              "969      standard             80         B\n",
              "467  free/reduced             65         C\n",
              "781      standard             84         B\n",
              "295  free/reduced             60         D\n",
              "754  free/reduced             53         D\n",
              "394      standard             77         B\n",
              "3    free/reduced             44         D\n",
              "601      standard             30         D\n",
              "1        standard             88         A"
            ]
          },
          "metadata": {
            "tags": []
          },
          "execution_count": 35
        }
      ]
    },
    {
      "cell_type": "code",
      "metadata": {
        "colab": {
          "base_uri": "https://localhost:8080/",
          "height": 142
        },
        "id": "avbnSKI5O3pN",
        "outputId": "09b5a493-b4ac-4f4e-9296-03f48e776ce5"
      },
      "source": [
        "tan_so_df = pd.crosstab(index = lun_write_df['lunch'], columns=lun_write_df['ThangDiem'])\n",
        "tan_so_df"
      ],
      "execution_count": null,
      "outputs": [
        {
          "output_type": "execute_result",
          "data": {
            "text/html": [
              "<div>\n",
              "<style scoped>\n",
              "    .dataframe tbody tr th:only-of-type {\n",
              "        vertical-align: middle;\n",
              "    }\n",
              "\n",
              "    .dataframe tbody tr th {\n",
              "        vertical-align: top;\n",
              "    }\n",
              "\n",
              "    .dataframe thead th {\n",
              "        text-align: right;\n",
              "    }\n",
              "</style>\n",
              "<table border=\"1\" class=\"dataframe\">\n",
              "  <thead>\n",
              "    <tr style=\"text-align: right;\">\n",
              "      <th>ThangDiem</th>\n",
              "      <th>D</th>\n",
              "      <th>C</th>\n",
              "      <th>B</th>\n",
              "      <th>A</th>\n",
              "    </tr>\n",
              "    <tr>\n",
              "      <th>lunch</th>\n",
              "      <th></th>\n",
              "      <th></th>\n",
              "      <th></th>\n",
              "      <th></th>\n",
              "    </tr>\n",
              "  </thead>\n",
              "  <tbody>\n",
              "    <tr>\n",
              "      <th>free/reduced</th>\n",
              "      <td>156</td>\n",
              "      <td>120</td>\n",
              "      <td>56</td>\n",
              "      <td>23</td>\n",
              "    </tr>\n",
              "    <tr>\n",
              "      <th>standard</th>\n",
              "      <td>145</td>\n",
              "      <td>251</td>\n",
              "      <td>151</td>\n",
              "      <td>98</td>\n",
              "    </tr>\n",
              "  </tbody>\n",
              "</table>\n",
              "</div>"
            ],
            "text/plain": [
              "ThangDiem       D    C    B   A\n",
              "lunch                          \n",
              "free/reduced  156  120   56  23\n",
              "standard      145  251  151  98"
            ]
          },
          "metadata": {
            "tags": []
          },
          "execution_count": 36
        }
      ]
    },
    {
      "cell_type": "code",
      "metadata": {
        "colab": {
          "base_uri": "https://localhost:8080/",
          "height": 80
        },
        "id": "6dzGrn1JPBeu",
        "outputId": "9cc58557-2995-4dcc-a2c4-4b9d1d4ed1ea"
      },
      "source": [
        "score, p_value, dof, expected = stats.chi2_contingency(tan_so_df)\n",
        "p = {}\n",
        "p['score'] = score\n",
        "p['p_value'] = p_value\n",
        "p['dof'] = dof\n",
        "results(p)"
      ],
      "execution_count": null,
      "outputs": [
        {
          "output_type": "execute_result",
          "data": {
            "text/html": [
              "<div>\n",
              "<style scoped>\n",
              "    .dataframe tbody tr th:only-of-type {\n",
              "        vertical-align: middle;\n",
              "    }\n",
              "\n",
              "    .dataframe tbody tr th {\n",
              "        vertical-align: top;\n",
              "    }\n",
              "\n",
              "    .dataframe thead th {\n",
              "        text-align: right;\n",
              "    }\n",
              "</style>\n",
              "<table border=\"1\" class=\"dataframe\">\n",
              "  <thead>\n",
              "    <tr style=\"text-align: right;\">\n",
              "      <th></th>\n",
              "      <th>score</th>\n",
              "      <th>p_value</th>\n",
              "      <th>dof</th>\n",
              "      <th>KetLuan</th>\n",
              "    </tr>\n",
              "  </thead>\n",
              "  <tbody>\n",
              "    <tr>\n",
              "      <th></th>\n",
              "      <td>57.47865</td>\n",
              "      <td>2.031098e-12</td>\n",
              "      <td>3</td>\n",
              "      <td>Chấp nhận H1 với mức ý nghĩa 0.05</td>\n",
              "    </tr>\n",
              "  </tbody>\n",
              "</table>\n",
              "</div>"
            ],
            "text/plain": [
              "     score       p_value  dof                            KetLuan\n",
              "  57.47865  2.031098e-12    3  Chấp nhận H1 với mức ý nghĩa 0.05"
            ]
          },
          "metadata": {
            "tags": []
          },
          "execution_count": 37
        }
      ]
    },
    {
      "cell_type": "markdown",
      "metadata": {
        "id": "2fQYcxavPDck"
      },
      "source": [
        "**Về mặt thống kê, ăn trưa có ảnh hưởng đến điểm viết với mức ý nghĩa 5%**"
      ]
    },
    {
      "cell_type": "markdown",
      "metadata": {
        "id": "vIOfRx9TPHQL"
      },
      "source": [
        "## Kỹ thuật EDA"
      ]
    },
    {
      "cell_type": "code",
      "metadata": {
        "id": "wI14QxiePJd-"
      },
      "source": [
        "standard = lun_write_df[lun_write_df['lunch']=='standard']\n",
        "free_or_reduced = lun_write_df[lun_write_df['lunch']=='free/reduced']"
      ],
      "execution_count": null,
      "outputs": []
    },
    {
      "cell_type": "code",
      "metadata": {
        "colab": {
          "base_uri": "https://localhost:8080/",
          "height": 285
        },
        "id": "jSesB0CdPSiG",
        "outputId": "2a43bc76-144d-4d96-c23a-c4e6dbfe01cf"
      },
      "source": [
        "sns.set(style='darkgrid')\n",
        "sns.histplot(data = standard, x='writing score', color = 'green', label = 'standard', kde = True)\n",
        "sns.histplot(data = free_or_reduced, x='writing score', color='black', label = 'free/reduced', kde=True)\n",
        "plt.legend()\n",
        "plt.show()"
      ],
      "execution_count": null,
      "outputs": [
        {
          "output_type": "display_data",
          "data": {
            "image/png": "[encoded data removed]",
            "text/plain": [
              "<Figure size 432x288 with 1 Axes>"
            ]
          },
          "metadata": {
            "tags": []
          }
        }
      ]
    },
    {
      "cell_type": "markdown",
      "metadata": {
        "id": "W8RvsJICeiRs"
      },
      "source": [
        "### Bài 2:"
      ]
    },
    {
      "cell_type": "code",
      "metadata": {
        "id": "2Lwqr1YDelVd"
      },
      "source": [
        "def results(p, alpha=0.05):\n",
        "    cols=['f_score', 'p_value', 'KetLuan']\n",
        "    if p['p_value'] < alpha:\n",
        "        p['KetLuan'] = f\"Chấp nhận H1 với mức ý nghĩa {alpha}\"\n",
        "    if p['p_value'] >= alpha:\n",
        "        p['KetLuan'] = f\"Chấp nhận H0 với mức ý nghĩa {alpha}\"\n",
        "    df = pd.DataFrame(p, index=[''])\n",
        "    return df[cols]"
      ],
      "execution_count": null,
      "outputs": []
    },
    {
      "cell_type": "markdown",
      "metadata": {
        "id": "00z3et4CfS5C"
      },
      "source": [
        "## Đọc dữ liệu"
      ]
    },
    {
      "cell_type": "code",
      "metadata": {
        "id": "azMrlFrKfRgO"
      },
      "source": [
        "df = pd.io.stata.read_stata(\"https://www.stata-press.com/data/r17/cholesterol.dta\")"
      ],
      "execution_count": null,
      "outputs": []
    },
    {
      "cell_type": "code",
      "metadata": {
        "id": "ucn8hjxmfZwo",
        "colab": {
          "base_uri": "https://localhost:8080/",
          "height": 357
        },
        "outputId": "010d6868-4e1a-410b-db7a-2f093bd51db4"
      },
      "source": [
        "df.sample(10)"
      ],
      "execution_count": null,
      "outputs": [
        {
          "output_type": "execute_result",
          "data": {
            "text/html": [
              "<div>\n",
              "<style scoped>\n",
              "    .dataframe tbody tr th:only-of-type {\n",
              "        vertical-align: middle;\n",
              "    }\n",
              "\n",
              "    .dataframe tbody tr th {\n",
              "        vertical-align: top;\n",
              "    }\n",
              "\n",
              "    .dataframe thead th {\n",
              "        text-align: right;\n",
              "    }\n",
              "</style>\n",
              "<table border=\"1\" class=\"dataframe\">\n",
              "  <thead>\n",
              "    <tr style=\"text-align: right;\">\n",
              "      <th></th>\n",
              "      <th>race</th>\n",
              "      <th>agegrp</th>\n",
              "      <th>chol</th>\n",
              "      <th>agemidpt</th>\n",
              "      <th>meangrp</th>\n",
              "    </tr>\n",
              "  </thead>\n",
              "  <tbody>\n",
              "    <tr>\n",
              "      <th>41</th>\n",
              "      <td>White</td>\n",
              "      <td>30–39</td>\n",
              "      <td>205.506882</td>\n",
              "      <td>35.0</td>\n",
              "      <td>201.394150</td>\n",
              "    </tr>\n",
              "    <tr>\n",
              "      <th>22</th>\n",
              "      <td>Black</td>\n",
              "      <td>20–29</td>\n",
              "      <td>187.652069</td>\n",
              "      <td>25.0</td>\n",
              "      <td>188.056671</td>\n",
              "    </tr>\n",
              "    <tr>\n",
              "      <th>39</th>\n",
              "      <td>White</td>\n",
              "      <td>30–39</td>\n",
              "      <td>196.421158</td>\n",
              "      <td>35.0</td>\n",
              "      <td>201.394150</td>\n",
              "    </tr>\n",
              "    <tr>\n",
              "      <th>43</th>\n",
              "      <td>Black</td>\n",
              "      <td>30–39</td>\n",
              "      <td>210.038010</td>\n",
              "      <td>35.0</td>\n",
              "      <td>201.394150</td>\n",
              "    </tr>\n",
              "    <tr>\n",
              "      <th>35</th>\n",
              "      <td>White</td>\n",
              "      <td>30–39</td>\n",
              "      <td>187.386658</td>\n",
              "      <td>35.0</td>\n",
              "      <td>201.394150</td>\n",
              "    </tr>\n",
              "    <tr>\n",
              "      <th>42</th>\n",
              "      <td>Other</td>\n",
              "      <td>30–39</td>\n",
              "      <td>185.618561</td>\n",
              "      <td>35.0</td>\n",
              "      <td>201.394150</td>\n",
              "    </tr>\n",
              "    <tr>\n",
              "      <th>32</th>\n",
              "      <td>Other</td>\n",
              "      <td>30–39</td>\n",
              "      <td>207.087860</td>\n",
              "      <td>35.0</td>\n",
              "      <td>201.394150</td>\n",
              "    </tr>\n",
              "    <tr>\n",
              "      <th>60</th>\n",
              "      <td>Other</td>\n",
              "      <td>60–79</td>\n",
              "      <td>236.831116</td>\n",
              "      <td>70.0</td>\n",
              "      <td>220.615295</td>\n",
              "    </tr>\n",
              "    <tr>\n",
              "      <th>14</th>\n",
              "      <td>Other</td>\n",
              "      <td>10–19</td>\n",
              "      <td>174.352081</td>\n",
              "      <td>15.0</td>\n",
              "      <td>179.853088</td>\n",
              "    </tr>\n",
              "    <tr>\n",
              "      <th>58</th>\n",
              "      <td>White</td>\n",
              "      <td>40–59</td>\n",
              "      <td>216.132538</td>\n",
              "      <td>50.0</td>\n",
              "      <td>210.003769</td>\n",
              "    </tr>\n",
              "  </tbody>\n",
              "</table>\n",
              "</div>"
            ],
            "text/plain": [
              "     race agegrp        chol  agemidpt     meangrp\n",
              "41  White  30–39  205.506882      35.0  201.394150\n",
              "22  Black  20–29  187.652069      25.0  188.056671\n",
              "39  White  30–39  196.421158      35.0  201.394150\n",
              "43  Black  30–39  210.038010      35.0  201.394150\n",
              "35  White  30–39  187.386658      35.0  201.394150\n",
              "42  Other  30–39  185.618561      35.0  201.394150\n",
              "32  Other  30–39  207.087860      35.0  201.394150\n",
              "60  Other  60–79  236.831116      70.0  220.615295\n",
              "14  Other  10–19  174.352081      15.0  179.853088\n",
              "58  White  40–59  216.132538      50.0  210.003769"
            ]
          },
          "metadata": {
            "tags": []
          },
          "execution_count": 42
        }
      ]
    },
    {
      "cell_type": "markdown",
      "metadata": {
        "id": "fJpQlf0Nfon5"
      },
      "source": [
        "## So sánh trung bình Cholesterol giữa các nhóm sắc tộc"
      ]
    },
    {
      "cell_type": "markdown",
      "metadata": {
        "id": "h2CqkWwYfpPU"
      },
      "source": [
        "**Phát biểu giả thuyết:**\n",
        "\n",
        "$H_{0}$: Không có sự khác biệt về trung bình cholesterol giữa 3 nhóm sắc tộc\n",
        "\n",
        "$H_{1}$: Có ít nhất 2 nhóm sắc tộc có trung bình cholesterol khác nhau"
      ]
    },
    {
      "cell_type": "code",
      "metadata": {
        "colab": {
          "base_uri": "https://localhost:8080/",
          "height": 768
        },
        "id": "4ii-9znMfwPK",
        "outputId": "dec2a55e-95f4-444d-afd3-3d44e8818c26"
      },
      "source": [
        "# Kỹ thuật EDA:\n",
        "sns.boxplot(x='race', y='chol', data=df, color='green')\n",
        "sns.swarmplot(x='race', y='chol', data=df, color='yellow')\n",
        "plt.show()"
      ],
      "execution_count": 44,
      "outputs": [
        {
          "output_type": "display_data",
          "data": {
            "image/png": "[encoded data removed]",
            "text/plain": [
              "<Figure size 1600x900 with 1 Axes>"
            ]
          },
          "metadata": {
            "tags": [],
            "needs_background": "light"
          }
        }
      ]
    },
    {
      "cell_type": "code",
      "metadata": {
        "id": "cykX6FOTf-4A"
      },
      "source": [
        "race_chol_df = df[['race', 'chol']].copy()\n",
        "white = race_chol_df[race_chol_df['race']=='White']\n",
        "black = race_chol_df[race_chol_df['race']=='Black']\n",
        "other = race_chol_df[race_chol_df['race']=='Other']"
      ],
      "execution_count": 45,
      "outputs": []
    },
    {
      "cell_type": "code",
      "metadata": {
        "colab": {
          "base_uri": "https://localhost:8080/",
          "height": 80
        },
        "id": "0Cdb-h7CgAc3",
        "outputId": "06e26720-95b4-4244-fa80-e62c807f9ce9"
      },
      "source": [
        "p = {}\n",
        "p['f_score'], p['p_value'] = stats.f_oneway(white['chol'],black['chol'],other['chol'])\n",
        "results(p)"
      ],
      "execution_count": 46,
      "outputs": [
        {
          "output_type": "execute_result",
          "data": {
            "text/html": [
              "<div>\n",
              "<style scoped>\n",
              "    .dataframe tbody tr th:only-of-type {\n",
              "        vertical-align: middle;\n",
              "    }\n",
              "\n",
              "    .dataframe tbody tr th {\n",
              "        vertical-align: top;\n",
              "    }\n",
              "\n",
              "    .dataframe thead th {\n",
              "        text-align: right;\n",
              "    }\n",
              "</style>\n",
              "<table border=\"1\" class=\"dataframe\">\n",
              "  <thead>\n",
              "    <tr style=\"text-align: right;\">\n",
              "      <th></th>\n",
              "      <th>f_score</th>\n",
              "      <th>p_value</th>\n",
              "      <th>KetLuan</th>\n",
              "    </tr>\n",
              "  </thead>\n",
              "  <tbody>\n",
              "    <tr>\n",
              "      <th></th>\n",
              "      <td>1.108161</td>\n",
              "      <td>0.33573</td>\n",
              "      <td>Chấp nhận H0 với mức ý nghĩa 0.05</td>\n",
              "    </tr>\n",
              "  </tbody>\n",
              "</table>\n",
              "</div>"
            ],
            "text/plain": [
              "   f_score  p_value                            KetLuan\n",
              "  1.108161  0.33573  Chấp nhận H0 với mức ý nghĩa 0.05"
            ]
          },
          "metadata": {
            "tags": []
          },
          "execution_count": 46
        }
      ]
    },
    {
      "cell_type": "code",
      "metadata": {
        "id": "0hzjGYLRgCso"
      },
      "source": [
        "from statsmodels.stats.multicomp import pairwise_tukeyhsd"
      ],
      "execution_count": 48,
      "outputs": []
    },
    {
      "cell_type": "code",
      "metadata": {
        "colab": {
          "base_uri": "https://localhost:8080/",
          "height": 117
        },
        "id": "MgX6EjPMgGAW",
        "outputId": "07ce8742-ff0e-4823-bff9-ef5fd4e98edf"
      },
      "source": [
        "tukey = pairwise_tukeyhsd(endog=df['chol'],\n",
        "                          groups=df['race'],\n",
        "                          alpha=0.05)\n",
        "tukey.summary()"
      ],
      "execution_count": 49,
      "outputs": [
        {
          "output_type": "execute_result",
          "data": {
            "text/html": [
              "<table class=\"simpletable\">\n",
              "<caption>Multiple Comparison of Means - Tukey HSD, FWER=0.05</caption>\n",
              "<tr>\n",
              "  <th>group1</th> <th>group2</th> <th>meandiff</th>  <th>p-adj</th>   <th>lower</th>   <th>upper</th>  <th>reject</th>\n",
              "</tr>\n",
              "<tr>\n",
              "   <td>Black</td>  <td>Other</td>  <td>-5.7153</td> <td>0.4808</td> <td>-17.4778</td> <td>6.0473</td>   <td>False</td>\n",
              "</tr>\n",
              "<tr>\n",
              "   <td>Black</td>  <td>White</td>  <td>-6.8147</td> <td>0.3542</td> <td>-18.5773</td> <td>4.9478</td>   <td>False</td>\n",
              "</tr>\n",
              "<tr>\n",
              "   <td>Other</td>  <td>White</td>  <td>-1.0995</td>   <td>0.9</td>   <td>-12.862</td> <td>10.6631</td>  <td>False</td>\n",
              "</tr>\n",
              "</table>"
            ],
            "text/plain": [
              "<class 'statsmodels.iolib.table.SimpleTable'>"
            ]
          },
          "metadata": {
            "tags": []
          },
          "execution_count": 49
        }
      ]
    },
    {
      "cell_type": "code",
      "metadata": {
        "id": "pLp54XoPgIKs"
      },
      "source": [
        "from statsmodels.formula.api import ols\n",
        "import statsmodels.api as sm"
      ],
      "execution_count": 50,
      "outputs": []
    },
    {
      "cell_type": "code",
      "metadata": {
        "id": "6iuCggZygJvU"
      },
      "source": [
        "model = ols('chol ~ C(race)', data=df).fit()\n",
        "anova_table = sm.stats.anova_lm(model, typ=2)"
      ],
      "execution_count": 51,
      "outputs": []
    },
    {
      "cell_type": "code",
      "metadata": {
        "colab": {
          "base_uri": "https://localhost:8080/",
          "height": 110
        },
        "id": "V3szum2ZgMDm",
        "outputId": "33e183c1-8076-4927-9445-0b6415ef33eb"
      },
      "source": [
        "anova_table"
      ],
      "execution_count": 52,
      "outputs": [
        {
          "output_type": "execute_result",
          "data": {
            "text/html": [
              "<div>\n",
              "<style scoped>\n",
              "    .dataframe tbody tr th:only-of-type {\n",
              "        vertical-align: middle;\n",
              "    }\n",
              "\n",
              "    .dataframe tbody tr th {\n",
              "        vertical-align: top;\n",
              "    }\n",
              "\n",
              "    .dataframe thead th {\n",
              "        text-align: right;\n",
              "    }\n",
              "</style>\n",
              "<table border=\"1\" class=\"dataframe\">\n",
              "  <thead>\n",
              "    <tr style=\"text-align: right;\">\n",
              "      <th></th>\n",
              "      <th>sum_sq</th>\n",
              "      <th>df</th>\n",
              "      <th>F</th>\n",
              "      <th>PR(&gt;F)</th>\n",
              "    </tr>\n",
              "  </thead>\n",
              "  <tbody>\n",
              "    <tr>\n",
              "      <th>C(race)</th>\n",
              "      <td>669.278235</td>\n",
              "      <td>2.0</td>\n",
              "      <td>1.108161</td>\n",
              "      <td>0.33573</td>\n",
              "    </tr>\n",
              "    <tr>\n",
              "      <th>Residual</th>\n",
              "      <td>21742.341205</td>\n",
              "      <td>72.0</td>\n",
              "      <td>NaN</td>\n",
              "      <td>NaN</td>\n",
              "    </tr>\n",
              "  </tbody>\n",
              "</table>\n",
              "</div>"
            ],
            "text/plain": [
              "                sum_sq    df         F   PR(>F)\n",
              "C(race)     669.278235   2.0  1.108161  0.33573\n",
              "Residual  21742.341205  72.0       NaN      NaN"
            ]
          },
          "metadata": {
            "tags": []
          },
          "execution_count": 52
        }
      ]
    }
  ]
}