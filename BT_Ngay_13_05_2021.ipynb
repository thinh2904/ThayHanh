{
  "nbformat": 4,
  "nbformat_minor": 0,
  "metadata": {
    "colab": {
      "name": "BT_Ngay_13_05_2021.ipynb",
      "provenance": [],
      "collapsed_sections": [],
      "authorship_tag": "ABX9TyOR8GJ9RK+xoqvX5FUTUiQT",
      "include_colab_link": true
    },
    "kernelspec": {
      "name": "python3",
      "display_name": "Python 3"
    },
    "language_info": {
      "name": "python"
    }
  },
  "cells": [
    {
      "cell_type": "markdown",
      "metadata": {
        "id": "view-in-github",
        "colab_type": "text"
      },
      "source": [
        "<a href=\"https://colab.research.google.com/github/thinh2904/ThayHanh/blob/main/BT_Ngay_13_05_2021.ipynb\" target=\"_parent\"><img src=\"https://colab.research.google.com/assets/colab-badge.svg\" alt=\"Open In Colab\"/></a>"
      ]
    },
    {
      "cell_type": "code",
      "metadata": {
        "colab": {
          "base_uri": "https://localhost:8080/"
        },
        "id": "7FzHsUc16PtT",
        "outputId": "66e40c17-b3fb-46b5-98c5-84e3919df2c8"
      },
      "source": [
        "!pip install scipy==1.6.3"
      ],
      "execution_count": 2,
      "outputs": [
        {
          "output_type": "stream",
          "text": [
            "Requirement already satisfied: scipy==1.6.3 in /usr/local/lib/python3.7/dist-packages (1.6.3)\n",
            "Requirement already satisfied: numpy<1.23.0,>=1.16.5 in /usr/local/lib/python3.7/dist-packages (from scipy==1.6.3) (1.19.5)\n"
          ],
          "name": "stdout"
        }
      ]
    },
    {
      "cell_type": "code",
      "metadata": {
        "id": "Oe1bJFdw6CbE"
      },
      "source": [
        "import numpy as np\n",
        "import pandas as pd\n",
        "import scipy\n",
        "from matplotlib import pyplot as plt\n",
        "from scipy import stats, interpolate\n",
        "import seaborn as sns\n",
        "import statsmodels.api as sm\n",
        "from scipy.stats import norm\n",
        "from scipy.stats import ttest_1samp"
      ],
      "execution_count": 4,
      "outputs": []
    },
    {
      "cell_type": "code",
      "metadata": {
        "colab": {
          "base_uri": "https://localhost:8080/",
          "height": 195
        },
        "id": "U2IM1Chb7SKT",
        "outputId": "9e7ae9f9-3b8b-4184-fa4a-25fcc37f8144"
      },
      "source": [
        "gia_nha_dat_us = pd.read_csv('gia_nha_dat_us.csv')\n",
        "df = gia_nha_dat_us[['MSSubClass', 'MSZoning', 'LotArea', 'SalePrice']]\n",
        "df.head()"
      ],
      "execution_count": 6,
      "outputs": [
        {
          "output_type": "execute_result",
          "data": {
            "text/html": [
              "<div>\n",
              "<style scoped>\n",
              "    .dataframe tbody tr th:only-of-type {\n",
              "        vertical-align: middle;\n",
              "    }\n",
              "\n",
              "    .dataframe tbody tr th {\n",
              "        vertical-align: top;\n",
              "    }\n",
              "\n",
              "    .dataframe thead th {\n",
              "        text-align: right;\n",
              "    }\n",
              "</style>\n",
              "<table border=\"1\" class=\"dataframe\">\n",
              "  <thead>\n",
              "    <tr style=\"text-align: right;\">\n",
              "      <th></th>\n",
              "      <th>MSSubClass</th>\n",
              "      <th>MSZoning</th>\n",
              "      <th>LotArea</th>\n",
              "      <th>SalePrice</th>\n",
              "    </tr>\n",
              "  </thead>\n",
              "  <tbody>\n",
              "    <tr>\n",
              "      <th>0</th>\n",
              "      <td>60</td>\n",
              "      <td>RL</td>\n",
              "      <td>8450</td>\n",
              "      <td>208500</td>\n",
              "    </tr>\n",
              "    <tr>\n",
              "      <th>1</th>\n",
              "      <td>20</td>\n",
              "      <td>RL</td>\n",
              "      <td>9600</td>\n",
              "      <td>181500</td>\n",
              "    </tr>\n",
              "    <tr>\n",
              "      <th>2</th>\n",
              "      <td>60</td>\n",
              "      <td>RL</td>\n",
              "      <td>11250</td>\n",
              "      <td>223500</td>\n",
              "    </tr>\n",
              "    <tr>\n",
              "      <th>3</th>\n",
              "      <td>70</td>\n",
              "      <td>RL</td>\n",
              "      <td>9550</td>\n",
              "      <td>140000</td>\n",
              "    </tr>\n",
              "    <tr>\n",
              "      <th>4</th>\n",
              "      <td>60</td>\n",
              "      <td>RL</td>\n",
              "      <td>14260</td>\n",
              "      <td>250000</td>\n",
              "    </tr>\n",
              "  </tbody>\n",
              "</table>\n",
              "</div>"
            ],
            "text/plain": [
              "   MSSubClass MSZoning  LotArea  SalePrice\n",
              "0          60       RL     8450     208500\n",
              "1          20       RL     9600     181500\n",
              "2          60       RL    11250     223500\n",
              "3          70       RL     9550     140000\n",
              "4          60       RL    14260     250000"
            ]
          },
          "metadata": {
            "tags": []
          },
          "execution_count": 6
        }
      ]
    },
    {
      "cell_type": "code",
      "metadata": {
        "id": "qyHiZDeJ74Za"
      },
      "source": [
        "data = df['SalePrice']\n",
        "data = np.log1p(data)"
      ],
      "execution_count": 7,
      "outputs": []
    },
    {
      "cell_type": "code",
      "metadata": {
        "colab": {
          "base_uri": "https://localhost:8080/",
          "height": 265
        },
        "id": "f5bqadho8D18",
        "outputId": "cab9d626-1c33-4d35-b89a-703d54595a59"
      },
      "source": [
        "# Kiem tra data co chuan hay khong?\n",
        "mean = np.mean(data)\n",
        "# ddof=1 :: hiệu chỉnh\n",
        "std = np.std(data, ddof=1)\n",
        "domain = np.linspace(np.min(data), np.max(data))\n",
        "plt.plot(domain, stats.norm.pdf(domain, mean, std))\n",
        "#density=True :: chuẩn hóa dữ liệu về normal\n",
        "plt.hist(data, edgecolor='green', density=True)\n",
        "plt.show()"
      ],
      "execution_count": 8,
      "outputs": [
        {
          "output_type": "display_data",
          "data": {
            "image/png": "[encoded data removed]",
            "text/plain": [
              "<Figure size 432x288 with 1 Axes>"
            ]
          },
          "metadata": {
            "tags": [],
            "needs_background": "light"
          }
        }
      ]
    },
    {
      "cell_type": "code",
      "metadata": {
        "colab": {
          "base_uri": "https://localhost:8080/",
          "height": 279
        },
        "id": "ZLMfyGdv8I3-",
        "outputId": "e5c79fba-a600-4319-f21d-d9ac829b58f7"
      },
      "source": [
        "# Đưa dữ liệu về dạng chuẩn tắc #\n",
        "def standadize(data):\n",
        "    mean = np.mean(data)\n",
        "    std = np.std(data)\n",
        "    return (data - mean)/std\n",
        "\n",
        "sm.qqplot(standadize(data), line ='45')\n",
        "plt.show()"
      ],
      "execution_count": 9,
      "outputs": [
        {
          "output_type": "display_data",
          "data": {
            "image/png": "[encoded data removed]",
            "text/plain": [
              "<Figure size 432x288 with 1 Axes>"
            ]
          },
          "metadata": {
            "tags": [],
            "needs_background": "light"
          }
        }
      ]
    },
    {
      "cell_type": "code",
      "metadata": {
        "colab": {
          "base_uri": "https://localhost:8080/"
        },
        "id": "2XTXId2B-Bqn",
        "outputId": "97555096-7667-4fb4-8e1b-3cc6ff068cbd"
      },
      "source": [
        "my_mean = 150000\n",
        "my_log_mean = np.log1p(my_mean)\n",
        "print(my_log_mean)"
      ],
      "execution_count": 10,
      "outputs": [
        {
          "output_type": "stream",
          "text": [
            "11.918397239722838\n"
          ],
          "name": "stdout"
        }
      ]
    },
    {
      "cell_type": "markdown",
      "metadata": {
        "id": "804GD5Vx-N18"
      },
      "source": [
        "Giả thiết thống kê:\n",
        "\n",
        "H0: \n",
        "μ\n",
        "=\n",
        "11.918397239722838\n",
        "\n",
        "H1: \n",
        "μ\n",
        "≠\n",
        "11.918397239722838\n",
        "."
      ]
    },
    {
      "cell_type": "code",
      "metadata": {
        "id": "nCobHZPJ-TyG"
      },
      "source": [
        "def results(p, vals=['mean1', 'mean2'], alpha=0.05):\n",
        "    cols=['score', 'p_value', 'KetLuan']\n",
        "    if p['p_value'] < alpha:\n",
        "        p['KetLuan'] = f\"Chấp nhận H1 với mức ý nghĩa {alpha}\"\n",
        "    if p['p_value'] >= alpha:\n",
        "        p['KetLuan'] = f\"Chấp nhận H0 với mức ý nghĩa {alpha}\"\n",
        "    df = pd.DataFrame(p, index=[''])\n",
        "    if vals: cols = vals + cols\n",
        "    return df[cols]"
      ],
      "execution_count": 11,
      "outputs": []
    },
    {
      "cell_type": "code",
      "metadata": {
        "id": "b-YWp7Ga-XkE"
      },
      "source": [
        "# Lay ngau nhien 100 diem du lieu #\n",
        "sample = data.sample(n=100)"
      ],
      "execution_count": 12,
      "outputs": []
    },
    {
      "cell_type": "code",
      "metadata": {
        "colab": {
          "base_uri": "https://localhost:8080/",
          "height": 77
        },
        "id": "LAskPP66-pBO",
        "outputId": "48438a14-595a-4597-d1ad-2e7eac591eb3"
      },
      "source": [
        "#Kiem dinh mean cua sample so voi ky vong mu_0=11.918397239722838\n",
        "# kiem dinh 2 phia: H0: mu = mu_0, H1: mu != mu_0\n",
        "p = {}\n",
        "p['mean1'] = np.mean(sample)\n",
        "p['mean2'] = my_log_mean\n",
        "p['score'], p['p_value'] = ttest_1samp(sample, my_log_mean)\n",
        "results(p)"
      ],
      "execution_count": 13,
      "outputs": [
        {
          "output_type": "execute_result",
          "data": {
            "text/html": [
              "<div>\n",
              "<style scoped>\n",
              "    .dataframe tbody tr th:only-of-type {\n",
              "        vertical-align: middle;\n",
              "    }\n",
              "\n",
              "    .dataframe tbody tr th {\n",
              "        vertical-align: top;\n",
              "    }\n",
              "\n",
              "    .dataframe thead th {\n",
              "        text-align: right;\n",
              "    }\n",
              "</style>\n",
              "<table border=\"1\" class=\"dataframe\">\n",
              "  <thead>\n",
              "    <tr style=\"text-align: right;\">\n",
              "      <th></th>\n",
              "      <th>mean1</th>\n",
              "      <th>mean2</th>\n",
              "      <th>score</th>\n",
              "      <th>p_value</th>\n",
              "      <th>KetLuan</th>\n",
              "    </tr>\n",
              "  </thead>\n",
              "  <tbody>\n",
              "    <tr>\n",
              "      <th></th>\n",
              "      <td>12.086991</td>\n",
              "      <td>11.918397</td>\n",
              "      <td>4.211956</td>\n",
              "      <td>0.000056</td>\n",
              "      <td>Chấp nhận H1 với mức ý nghĩa 0.05</td>\n",
              "    </tr>\n",
              "  </tbody>\n",
              "</table>\n",
              "</div>"
            ],
            "text/plain": [
              "      mean1      mean2     score   p_value                            KetLuan\n",
              "  12.086991  11.918397  4.211956  0.000056  Chấp nhận H1 với mức ý nghĩa 0.05"
            ]
          },
          "metadata": {
            "tags": []
          },
          "execution_count": 13
        }
      ]
    },
    {
      "cell_type": "markdown",
      "metadata": {
        "id": "-yhqedMB-srH"
      },
      "source": [
        "Kiểm định 1 phía"
      ]
    },
    {
      "cell_type": "code",
      "metadata": {
        "id": "oitIMhBl-uAS",
        "colab": {
          "base_uri": "https://localhost:8080/",
          "height": 77
        },
        "outputId": "677c8830-ba7d-4dd3-efcf-2a95ab6d9bf6"
      },
      "source": [
        "# alternative{‘two-sided’, ‘less’, ‘greater’}\n",
        "# kiem dinh ben trai: H0 mu = mu_0, H1: mu < mu_0\n",
        "p = {}\n",
        "p['mean1'] = np.mean(sample)\n",
        "p['mean2'] = my_log_mean\n",
        "p['score'], p['p_value'] = ttest_1samp(sample, my_log_mean, alternative='less')\n",
        "results(p)"
      ],
      "execution_count": 18,
      "outputs": [
        {
          "output_type": "execute_result",
          "data": {
            "text/html": [
              "<div>\n",
              "<style scoped>\n",
              "    .dataframe tbody tr th:only-of-type {\n",
              "        vertical-align: middle;\n",
              "    }\n",
              "\n",
              "    .dataframe tbody tr th {\n",
              "        vertical-align: top;\n",
              "    }\n",
              "\n",
              "    .dataframe thead th {\n",
              "        text-align: right;\n",
              "    }\n",
              "</style>\n",
              "<table border=\"1\" class=\"dataframe\">\n",
              "  <thead>\n",
              "    <tr style=\"text-align: right;\">\n",
              "      <th></th>\n",
              "      <th>mean1</th>\n",
              "      <th>mean2</th>\n",
              "      <th>score</th>\n",
              "      <th>p_value</th>\n",
              "      <th>KetLuan</th>\n",
              "    </tr>\n",
              "  </thead>\n",
              "  <tbody>\n",
              "    <tr>\n",
              "      <th></th>\n",
              "      <td>12.086991</td>\n",
              "      <td>11.918397</td>\n",
              "      <td>4.211956</td>\n",
              "      <td>0.999972</td>\n",
              "      <td>Chấp nhận H0 với mức ý nghĩa 0.05</td>\n",
              "    </tr>\n",
              "  </tbody>\n",
              "</table>\n",
              "</div>"
            ],
            "text/plain": [
              "      mean1      mean2     score   p_value                            KetLuan\n",
              "  12.086991  11.918397  4.211956  0.999972  Chấp nhận H0 với mức ý nghĩa 0.05"
            ]
          },
          "metadata": {
            "tags": []
          },
          "execution_count": 18
        }
      ]
    },
    {
      "cell_type": "code",
      "metadata": {
        "colab": {
          "base_uri": "https://localhost:8080/",
          "height": 77
        },
        "id": "Nt9T6KzQxXBm",
        "outputId": "101d8663-c4e6-4e9c-efc2-554d5c2c739d"
      },
      "source": [
        "# alternative{‘two-sided’, ‘less’, ‘greater’}\n",
        "# kiem dinh ben phai: H0 mu = mu_0, H1: mu > mu_0\n",
        "p = {}\n",
        "p['mean1'] = np.mean(sample)\n",
        "p['mean2'] = my_log_mean\n",
        "p['score'], p['p_value'] = ttest_1samp(sample, my_log_mean, alternative='greater')\n",
        "results(p)"
      ],
      "execution_count": 17,
      "outputs": [
        {
          "output_type": "execute_result",
          "data": {
            "text/html": [
              "<div>\n",
              "<style scoped>\n",
              "    .dataframe tbody tr th:only-of-type {\n",
              "        vertical-align: middle;\n",
              "    }\n",
              "\n",
              "    .dataframe tbody tr th {\n",
              "        vertical-align: top;\n",
              "    }\n",
              "\n",
              "    .dataframe thead th {\n",
              "        text-align: right;\n",
              "    }\n",
              "</style>\n",
              "<table border=\"1\" class=\"dataframe\">\n",
              "  <thead>\n",
              "    <tr style=\"text-align: right;\">\n",
              "      <th></th>\n",
              "      <th>mean1</th>\n",
              "      <th>mean2</th>\n",
              "      <th>score</th>\n",
              "      <th>p_value</th>\n",
              "      <th>KetLuan</th>\n",
              "    </tr>\n",
              "  </thead>\n",
              "  <tbody>\n",
              "    <tr>\n",
              "      <th></th>\n",
              "      <td>12.086991</td>\n",
              "      <td>11.918397</td>\n",
              "      <td>4.211956</td>\n",
              "      <td>0.000028</td>\n",
              "      <td>Chấp nhận H1 với mức ý nghĩa 0.05</td>\n",
              "    </tr>\n",
              "  </tbody>\n",
              "</table>\n",
              "</div>"
            ],
            "text/plain": [
              "      mean1      mean2     score   p_value                            KetLuan\n",
              "  12.086991  11.918397  4.211956  0.000028  Chấp nhận H1 với mức ý nghĩa 0.05"
            ]
          },
          "metadata": {
            "tags": []
          },
          "execution_count": 17
        }
      ]
    },
    {
      "cell_type": "markdown",
      "metadata": {
        "id": "iDXF26ooxpT9"
      },
      "source": [
        "Bài tập về nhà:\n",
        "\n",
        "a) Hãy chọn giá trị n lớn hơn 100 khác nhau và chạy các thống kê ở trên để đưa ra kết luận.\n",
        "\n",
        "b) Hãy thay đổi my_mean khác nhau để tìm ra được giá trị kỳ vọng gần với giá trị trung bình của mẫu (với mức ý nghĩa 0.05)."
      ]
    },
    {
      "cell_type": "markdown",
      "metadata": {
        "id": "1SZ5m1CfyoSp"
      },
      "source": [
        "a)"
      ]
    },
    {
      "cell_type": "code",
      "metadata": {
        "id": "Yvwda38RxqMk"
      },
      "source": [
        "sample = data.sample(n=1000)"
      ],
      "execution_count": 19,
      "outputs": []
    },
    {
      "cell_type": "code",
      "metadata": {
        "colab": {
          "base_uri": "https://localhost:8080/",
          "height": 77
        },
        "id": "HKGEPpfZyKVg",
        "outputId": "c427d011-6570-4a3d-e0dc-e7250b6caef6"
      },
      "source": [
        "p = {}\n",
        "p['mean1'] = np.mean(sample)\n",
        "p['mean2'] = my_log_mean\n",
        "p['score'], p['p_value'] = ttest_1samp(sample, my_log_mean)\n",
        "results(p)"
      ],
      "execution_count": 20,
      "outputs": [
        {
          "output_type": "execute_result",
          "data": {
            "text/html": [
              "<div>\n",
              "<style scoped>\n",
              "    .dataframe tbody tr th:only-of-type {\n",
              "        vertical-align: middle;\n",
              "    }\n",
              "\n",
              "    .dataframe tbody tr th {\n",
              "        vertical-align: top;\n",
              "    }\n",
              "\n",
              "    .dataframe thead th {\n",
              "        text-align: right;\n",
              "    }\n",
              "</style>\n",
              "<table border=\"1\" class=\"dataframe\">\n",
              "  <thead>\n",
              "    <tr style=\"text-align: right;\">\n",
              "      <th></th>\n",
              "      <th>mean1</th>\n",
              "      <th>mean2</th>\n",
              "      <th>score</th>\n",
              "      <th>p_value</th>\n",
              "      <th>KetLuan</th>\n",
              "    </tr>\n",
              "  </thead>\n",
              "  <tbody>\n",
              "    <tr>\n",
              "      <th></th>\n",
              "      <td>12.031257</td>\n",
              "      <td>11.918397</td>\n",
              "      <td>8.890824</td>\n",
              "      <td>2.783486e-18</td>\n",
              "      <td>Chấp nhận H1 với mức ý nghĩa 0.05</td>\n",
              "    </tr>\n",
              "  </tbody>\n",
              "</table>\n",
              "</div>"
            ],
            "text/plain": [
              "      mean1      mean2  ...       p_value                            KetLuan\n",
              "  12.031257  11.918397  ...  2.783486e-18  Chấp nhận H1 với mức ý nghĩa 0.05\n",
              "\n",
              "[1 rows x 5 columns]"
            ]
          },
          "metadata": {
            "tags": []
          },
          "execution_count": 20
        }
      ]
    },
    {
      "cell_type": "code",
      "metadata": {
        "colab": {
          "base_uri": "https://localhost:8080/",
          "height": 77
        },
        "id": "HLW1Lz3ayRmr",
        "outputId": "063483e9-cee1-4c4e-dc84-410e56ee1994"
      },
      "source": [
        "p = {}\n",
        "p['mean1'] = np.mean(sample)\n",
        "p['mean2'] = my_log_mean\n",
        "p['score'], p['p_value'] = ttest_1samp(sample, my_log_mean, alternative='less')\n",
        "results(p)"
      ],
      "execution_count": 21,
      "outputs": [
        {
          "output_type": "execute_result",
          "data": {
            "text/html": [
              "<div>\n",
              "<style scoped>\n",
              "    .dataframe tbody tr th:only-of-type {\n",
              "        vertical-align: middle;\n",
              "    }\n",
              "\n",
              "    .dataframe tbody tr th {\n",
              "        vertical-align: top;\n",
              "    }\n",
              "\n",
              "    .dataframe thead th {\n",
              "        text-align: right;\n",
              "    }\n",
              "</style>\n",
              "<table border=\"1\" class=\"dataframe\">\n",
              "  <thead>\n",
              "    <tr style=\"text-align: right;\">\n",
              "      <th></th>\n",
              "      <th>mean1</th>\n",
              "      <th>mean2</th>\n",
              "      <th>score</th>\n",
              "      <th>p_value</th>\n",
              "      <th>KetLuan</th>\n",
              "    </tr>\n",
              "  </thead>\n",
              "  <tbody>\n",
              "    <tr>\n",
              "      <th></th>\n",
              "      <td>12.031257</td>\n",
              "      <td>11.918397</td>\n",
              "      <td>8.890824</td>\n",
              "      <td>1.0</td>\n",
              "      <td>Chấp nhận H0 với mức ý nghĩa 0.05</td>\n",
              "    </tr>\n",
              "  </tbody>\n",
              "</table>\n",
              "</div>"
            ],
            "text/plain": [
              "      mean1      mean2     score  p_value                            KetLuan\n",
              "  12.031257  11.918397  8.890824      1.0  Chấp nhận H0 với mức ý nghĩa 0.05"
            ]
          },
          "metadata": {
            "tags": []
          },
          "execution_count": 21
        }
      ]
    },
    {
      "cell_type": "code",
      "metadata": {
        "colab": {
          "base_uri": "https://localhost:8080/",
          "height": 77
        },
        "id": "IlhydQ1QyT6-",
        "outputId": "c69a0f5e-969e-4035-e5a1-f81e08b07116"
      },
      "source": [
        "p = {}\n",
        "p['mean1'] = np.mean(sample)\n",
        "p['mean2'] = my_log_mean\n",
        "p['score'], p['p_value'] = ttest_1samp(sample, my_log_mean, alternative='greater')\n",
        "results(p)"
      ],
      "execution_count": 22,
      "outputs": [
        {
          "output_type": "execute_result",
          "data": {
            "text/html": [
              "<div>\n",
              "<style scoped>\n",
              "    .dataframe tbody tr th:only-of-type {\n",
              "        vertical-align: middle;\n",
              "    }\n",
              "\n",
              "    .dataframe tbody tr th {\n",
              "        vertical-align: top;\n",
              "    }\n",
              "\n",
              "    .dataframe thead th {\n",
              "        text-align: right;\n",
              "    }\n",
              "</style>\n",
              "<table border=\"1\" class=\"dataframe\">\n",
              "  <thead>\n",
              "    <tr style=\"text-align: right;\">\n",
              "      <th></th>\n",
              "      <th>mean1</th>\n",
              "      <th>mean2</th>\n",
              "      <th>score</th>\n",
              "      <th>p_value</th>\n",
              "      <th>KetLuan</th>\n",
              "    </tr>\n",
              "  </thead>\n",
              "  <tbody>\n",
              "    <tr>\n",
              "      <th></th>\n",
              "      <td>12.031257</td>\n",
              "      <td>11.918397</td>\n",
              "      <td>8.890824</td>\n",
              "      <td>1.391743e-18</td>\n",
              "      <td>Chấp nhận H1 với mức ý nghĩa 0.05</td>\n",
              "    </tr>\n",
              "  </tbody>\n",
              "</table>\n",
              "</div>"
            ],
            "text/plain": [
              "      mean1      mean2  ...       p_value                            KetLuan\n",
              "  12.031257  11.918397  ...  1.391743e-18  Chấp nhận H1 với mức ý nghĩa 0.05\n",
              "\n",
              "[1 rows x 5 columns]"
            ]
          },
          "metadata": {
            "tags": []
          },
          "execution_count": 22
        }
      ]
    },
    {
      "cell_type": "markdown",
      "metadata": {
        "id": "6QStYC7WympT"
      },
      "source": [
        "b)"
      ]
    },
    {
      "cell_type": "code",
      "metadata": {
        "colab": {
          "base_uri": "https://localhost:8080/"
        },
        "id": "pOrnr2NfyndN",
        "outputId": "a19b7edb-1fb4-44c6-9994-f972ce7a5071"
      },
      "source": [
        "my_mean = 165000\n",
        "my_log_mean = np.log1p(my_mean)\n",
        "print(my_log_mean)"
      ],
      "execution_count": 28,
      "outputs": [
        {
          "output_type": "stream",
          "text": [
            "12.013706813470414\n"
          ],
          "name": "stdout"
        }
      ]
    },
    {
      "cell_type": "code",
      "metadata": {
        "colab": {
          "base_uri": "https://localhost:8080/",
          "height": 77
        },
        "id": "vdWLR-q6yxqN",
        "outputId": "dfa43ffd-4355-4952-cc86-c077025223c1"
      },
      "source": [
        "p = {}\n",
        "p['mean1'] = np.mean(sample)\n",
        "p['mean2'] = my_log_mean\n",
        "p['score'], p['p_value'] = ttest_1samp(sample, my_log_mean)\n",
        "results(p)"
      ],
      "execution_count": 29,
      "outputs": [
        {
          "output_type": "execute_result",
          "data": {
            "text/html": [
              "<div>\n",
              "<style scoped>\n",
              "    .dataframe tbody tr th:only-of-type {\n",
              "        vertical-align: middle;\n",
              "    }\n",
              "\n",
              "    .dataframe tbody tr th {\n",
              "        vertical-align: top;\n",
              "    }\n",
              "\n",
              "    .dataframe thead th {\n",
              "        text-align: right;\n",
              "    }\n",
              "</style>\n",
              "<table border=\"1\" class=\"dataframe\">\n",
              "  <thead>\n",
              "    <tr style=\"text-align: right;\">\n",
              "      <th></th>\n",
              "      <th>mean1</th>\n",
              "      <th>mean2</th>\n",
              "      <th>score</th>\n",
              "      <th>p_value</th>\n",
              "      <th>KetLuan</th>\n",
              "    </tr>\n",
              "  </thead>\n",
              "  <tbody>\n",
              "    <tr>\n",
              "      <th></th>\n",
              "      <td>12.031257</td>\n",
              "      <td>12.013707</td>\n",
              "      <td>1.382563</td>\n",
              "      <td>0.167108</td>\n",
              "      <td>Chấp nhận H0 với mức ý nghĩa 0.05</td>\n",
              "    </tr>\n",
              "  </tbody>\n",
              "</table>\n",
              "</div>"
            ],
            "text/plain": [
              "      mean1      mean2     score   p_value                            KetLuan\n",
              "  12.031257  12.013707  1.382563  0.167108  Chấp nhận H0 với mức ý nghĩa 0.05"
            ]
          },
          "metadata": {
            "tags": []
          },
          "execution_count": 29
        }
      ]
    },
    {
      "cell_type": "code",
      "metadata": {
        "colab": {
          "base_uri": "https://localhost:8080/",
          "height": 77
        },
        "id": "7JakmHLizQco",
        "outputId": "f2aab720-4f3d-408e-f9e3-ed9b5dfafb3e"
      },
      "source": [
        "p = {}\n",
        "p['mean1'] = np.mean(sample)\n",
        "p['mean2'] = my_log_mean\n",
        "p['score'], p['p_value'] = ttest_1samp(sample, my_log_mean, alternative='less')\n",
        "results(p)"
      ],
      "execution_count": 30,
      "outputs": [
        {
          "output_type": "execute_result",
          "data": {
            "text/html": [
              "<div>\n",
              "<style scoped>\n",
              "    .dataframe tbody tr th:only-of-type {\n",
              "        vertical-align: middle;\n",
              "    }\n",
              "\n",
              "    .dataframe tbody tr th {\n",
              "        vertical-align: top;\n",
              "    }\n",
              "\n",
              "    .dataframe thead th {\n",
              "        text-align: right;\n",
              "    }\n",
              "</style>\n",
              "<table border=\"1\" class=\"dataframe\">\n",
              "  <thead>\n",
              "    <tr style=\"text-align: right;\">\n",
              "      <th></th>\n",
              "      <th>mean1</th>\n",
              "      <th>mean2</th>\n",
              "      <th>score</th>\n",
              "      <th>p_value</th>\n",
              "      <th>KetLuan</th>\n",
              "    </tr>\n",
              "  </thead>\n",
              "  <tbody>\n",
              "    <tr>\n",
              "      <th></th>\n",
              "      <td>12.031257</td>\n",
              "      <td>12.013707</td>\n",
              "      <td>1.382563</td>\n",
              "      <td>0.916446</td>\n",
              "      <td>Chấp nhận H0 với mức ý nghĩa 0.05</td>\n",
              "    </tr>\n",
              "  </tbody>\n",
              "</table>\n",
              "</div>"
            ],
            "text/plain": [
              "      mean1      mean2     score   p_value                            KetLuan\n",
              "  12.031257  12.013707  1.382563  0.916446  Chấp nhận H0 với mức ý nghĩa 0.05"
            ]
          },
          "metadata": {
            "tags": []
          },
          "execution_count": 30
        }
      ]
    },
    {
      "cell_type": "code",
      "metadata": {
        "colab": {
          "base_uri": "https://localhost:8080/",
          "height": 77
        },
        "id": "0pSG2TGDzT06",
        "outputId": "8405b299-17ca-4f06-be75-c535a6ef3643"
      },
      "source": [
        "p = {}\n",
        "p['mean1'] = np.mean(sample)\n",
        "p['mean2'] = my_log_mean\n",
        "p['score'], p['p_value'] = ttest_1samp(sample, my_log_mean, alternative='greater')\n",
        "results(p)"
      ],
      "execution_count": 31,
      "outputs": [
        {
          "output_type": "execute_result",
          "data": {
            "text/html": [
              "<div>\n",
              "<style scoped>\n",
              "    .dataframe tbody tr th:only-of-type {\n",
              "        vertical-align: middle;\n",
              "    }\n",
              "\n",
              "    .dataframe tbody tr th {\n",
              "        vertical-align: top;\n",
              "    }\n",
              "\n",
              "    .dataframe thead th {\n",
              "        text-align: right;\n",
              "    }\n",
              "</style>\n",
              "<table border=\"1\" class=\"dataframe\">\n",
              "  <thead>\n",
              "    <tr style=\"text-align: right;\">\n",
              "      <th></th>\n",
              "      <th>mean1</th>\n",
              "      <th>mean2</th>\n",
              "      <th>score</th>\n",
              "      <th>p_value</th>\n",
              "      <th>KetLuan</th>\n",
              "    </tr>\n",
              "  </thead>\n",
              "  <tbody>\n",
              "    <tr>\n",
              "      <th></th>\n",
              "      <td>12.031257</td>\n",
              "      <td>12.013707</td>\n",
              "      <td>1.382563</td>\n",
              "      <td>0.083554</td>\n",
              "      <td>Chấp nhận H0 với mức ý nghĩa 0.05</td>\n",
              "    </tr>\n",
              "  </tbody>\n",
              "</table>\n",
              "</div>"
            ],
            "text/plain": [
              "      mean1      mean2     score   p_value                            KetLuan\n",
              "  12.031257  12.013707  1.382563  0.083554  Chấp nhận H0 với mức ý nghĩa 0.05"
            ]
          },
          "metadata": {
            "tags": []
          },
          "execution_count": 31
        }
      ]
    }
  ]
}